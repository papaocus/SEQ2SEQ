{
  "nbformat": 4,
  "nbformat_minor": 0,
  "metadata": {
    "colab": {
      "provenance": []
    },
    "kernelspec": {
      "name": "python3",
      "display_name": "Python 3"
    },
    "language_info": {
      "name": "python"
    },
    "accelerator": "GPU",
    "gpuClass": "standard"
  },
  "cells": [
    {
      "cell_type": "code",
      "execution_count": 2,
      "metadata": {
        "id": "-eZP69XEHt-e"
      },
      "outputs": [],
      "source": [
        "import string\n",
        "import re\n",
        "from numpy import array, argmax, random, take\n",
        "import pandas as pd\n",
        "from keras.models import Sequential\n",
        "from keras.layers import Dense, LSTM, Embedding, RepeatVector\n",
        "from keras.preprocessing.text import Tokenizer\n",
        "from keras.callbacks import ModelCheckpoint\n",
        "from keras_preprocessing.sequence import pad_sequences\n",
        "from keras.models import load_model\n",
        "from keras import optimizers\n",
        "import matplotlib.pyplot as plt\n",
        "%matplotlib inline\n",
        "pd.set_option('display.max_colwidth', 200)"
      ]
    },
    {
      "cell_type": "code",
      "source": [
        "def read_text(filename):\n",
        "        # open the file\n",
        "        file = open(filename, mode='rt', encoding='utf-8')\n",
        "        \n",
        "        # read all text\n",
        "        text = file.read()\n",
        "        file.close()\n",
        "        return text"
      ],
      "metadata": {
        "id": "fGTgyanEIHfb"
      },
      "execution_count": 3,
      "outputs": []
    },
    {
      "cell_type": "code",
      "source": [
        "def to_lines(text):\n",
        "    sents = text.strip().split('\\n')\n",
        "    sents = [i.split('\\t') for i in sents]\n",
        "    return sents"
      ],
      "metadata": {
        "id": "eomc9CUWIcy-"
      },
      "execution_count": 4,
      "outputs": []
    },
    {
      "cell_type": "code",
      "source": [
        "from google.colab import drive\n",
        "drive.mount('/content/drive')"
      ],
      "metadata": {
        "colab": {
          "base_uri": "https://localhost:8080/"
        },
        "id": "r6rs4BRAIv3A",
        "outputId": "0c7809e2-5dc9-4b0e-d485-d81d4dc7f010"
      },
      "execution_count": 5,
      "outputs": [
        {
          "output_type": "stream",
          "name": "stdout",
          "text": [
            "Mounted at /content/drive\n"
          ]
        }
      ]
    },
    {
      "cell_type": "code",
      "source": [
        "data = read_text(\"/content/drive/MyDrive/archive/afr.txt\")\n",
        "deu_eng = to_lines(data)\n",
        "deu_eng = array(deu_eng)"
      ],
      "metadata": {
        "id": "8Te4E6JEI-cp"
      },
      "execution_count": 6,
      "outputs": []
    },
    {
      "cell_type": "code",
      "source": [
        "print(data)"
      ],
      "metadata": {
        "colab": {
          "base_uri": "https://localhost:8080/"
        },
        "id": "1TrzysojJNkD",
        "outputId": "6eed7c5a-b6d7-4658-cae1-e084629369af"
      },
      "execution_count": 7,
      "outputs": [
        {
          "output_type": "stream",
          "name": "stdout",
          "text": [
            "Come in.\tGaan binne.\tCC-BY 2.0 (France) Attribution: tatoeba.org #348091 (Hertz) & #2783902 (Diablofire)\n",
            "She runs.\tSy hardloop.\tCC-BY 2.0 (France) Attribution: tatoeba.org #672264 (CM) & #672267 (winterstream)\n",
            "You lost.\tJy verloor.\tCC-BY 2.0 (France) Attribution: tatoeba.org #6440636 (CK) & #6456479 (Dewald)\n",
            "Go inside.\tGaan binne.\tCC-BY 2.0 (France) Attribution: tatoeba.org #2428954 (CK) & #2783902 (Diablofire)\n",
            "Look back.\tKyk agter jou.\tCC-BY 2.0 (France) Attribution: tatoeba.org #2111609 (CK) & #5507226 (CJuser01)\n",
            "He is poor.\tHy is arm.\tCC-BY 2.0 (France) Attribution: tatoeba.org #516601 (kebukebu) & #6007351 (CJuser01)\n",
            "I eat rice.\tEk eet rys.\tCC-BY 2.0 (France) Attribution: tatoeba.org #7073209 (azraelgnosis) & #5930641 (CJuser01)\n",
            "Tom is wet.\tTom is nat.\tCC-BY 2.0 (France) Attribution: tatoeba.org #2236921 (CK) & #5532438 (CJuser01)\n",
            "We all lie.\tOns almal lieg.\tCC-BY 2.0 (France) Attribution: tatoeba.org #6440635 (CK) & #6456480 (Dewald)\n",
            "I'm thirsty.\tEk is dors.\tCC-BY 2.0 (France) Attribution: tatoeba.org #1814 (CK) & #5875986 (CJuser01)\n",
            "That's life.\tDis die lewe.\tCC-BY 2.0 (France) Attribution: tatoeba.org #515472 (CK) & #775550 (siener)\n",
            "Tom hurt me.\tTom het my beseer.\tCC-BY 2.0 (France) Attribution: tatoeba.org #6440634 (CK) & #6456481 (Dewald)\n",
            "Tom may die.\tTom kan dalk dood gaan.\tCC-BY 2.0 (France) Attribution: tatoeba.org #6440633 (CK) & #6456482 (Dewald)\n",
            "What a pity!\tHoe jammer!\tCC-BY 2.0 (France) Attribution: tatoeba.org #24885 (CK) & #5512370 (CJuser01)\n",
            "You've lost.\tJy verloor.\tCC-BY 2.0 (France) Attribution: tatoeba.org #6440632 (CK) & #6456479 (Dewald)\n",
            "Find the cat.\tSoek die kat.\tCC-BY 2.0 (France) Attribution: tatoeba.org #1345901 (CK) & #4332777 (Superdooperhero)\n",
            "I have a car.\tEk het 'n kar.\tCC-BY 2.0 (France) Attribution: tatoeba.org #252272 (CK) & #657427 (winterstream)\n",
            "Please hurry!\tMaak asseblief gou!\tCC-BY 2.0 (France) Attribution: tatoeba.org #1216255 (jared1981) & #1651670 (bccwil)\n",
            "We all stood.\tOns almal het gestaan.\tCC-BY 2.0 (France) Attribution: tatoeba.org #6440631 (CK) & #6456483 (Dewald)\n",
            "What a shame!\tHoe jammer!\tCC-BY 2.0 (France) Attribution: tatoeba.org #42149 (CK) & #5512370 (CJuser01)\n",
            "Even Tom lied.\tSelfs Tom het gelieg.\tCC-BY 2.0 (France) Attribution: tatoeba.org #6440630 (CK) & #6456484 (Dewald)\n",
            "I'm not blind.\tEk is nie blind nie.\tCC-BY 2.0 (France) Attribution: tatoeba.org #2549704 (CK) & #2783923 (Diablofire)\n",
            "It's too ugly.\tDis te lelik.\tCC-BY 2.0 (France) Attribution: tatoeba.org #2249338 (CK) & #2364280 (siener)\n",
            "Let Tom drive.\tLaat Tom bestuur.\tCC-BY 2.0 (France) Attribution: tatoeba.org #6440629 (CK) & #6456486 (Dewald)\n",
            "Tom had to go.\tTom moes gaan.\tCC-BY 2.0 (France) Attribution: tatoeba.org #6440628 (CK) & #6456487 (Dewald)\n",
            "Tom won't die.\tTom sal nie dood gaan nie.\tCC-BY 2.0 (France) Attribution: tatoeba.org #6440627 (CK) & #6456488 (Dewald)\n",
            "Was Tom there?\tWas Tom daar?\tCC-BY 2.0 (France) Attribution: tatoeba.org #2235610 (CK) & #2783303 (Diablofire)\n",
            "We need money.\tOns het geld nodig.\tCC-BY 2.0 (France) Attribution: tatoeba.org #493908 (adjusting) & #5671385 (CJuser01)\n",
            "You are drunk!\tJy is dronk!\tCC-BY 2.0 (France) Attribution: tatoeba.org #64332 (CK) & #784600 (siener)\n",
            "You are drunk!\tJulle is dronk!\tCC-BY 2.0 (France) Attribution: tatoeba.org #64332 (CK) & #784601 (siener)\n",
            "I hate driving.\tEk haat dit om te bestuur.\tCC-BY 2.0 (France) Attribution: tatoeba.org #6440626 (CK) & #6456489 (Dewald)\n",
            "I love driving.\tEk is gaande oor bestuur.\tCC-BY 2.0 (France) Attribution: tatoeba.org #6440625 (CK) & #6456490 (Dewald)\n",
            "I need support.\tEk benodig ondersteuning.\tCC-BY 2.0 (France) Attribution: tatoeba.org #4823920 (whitefishglobal) & #5781069 (CJuser01)\n",
            "I'm a free man.\tEk is 'n vry man.\tCC-BY 2.0 (France) Attribution: tatoeba.org #25504 (CK) & #653445 (winterstream)\n",
            "I'm not a poet.\tEk is nie 'n digter nie.\tCC-BY 2.0 (France) Attribution: tatoeba.org #6440624 (CK) & #6456492 (Dewald)\n",
            "It's a big job.\tDit is 'n groot werk.\tCC-BY 2.0 (France) Attribution: tatoeba.org #6440623 (CK) & #6456493 (Dewald)\n",
            "Let's practice.\tLaat ons oefen.\tCC-BY 2.0 (France) Attribution: tatoeba.org #2007892 (CK) & #5577327 (CJuser01)\n",
            "My desk is old.\tMy lessenaar is oud.\tCC-BY 2.0 (France) Attribution: tatoeba.org #250633 (CK) & #2535556 (winterstream)\n",
            "She likes wine.\tSy hou van wyn.\tCC-BY 2.0 (France) Attribution: tatoeba.org #309931 (CK) & #5478613 (CJuser01)\n",
            "She's not here.\tSy is nie hier nie.\tCC-BY 2.0 (France) Attribution: tatoeba.org #783222 (CK) & #783219 (siener)\n",
            "She's pregnant.\tSy is swanger.\tCC-BY 2.0 (France) Attribution: tatoeba.org #1442058 (CK) & #5649873 (CJuser01)\n",
            "That was yours.\tDit was joune.\tCC-BY 2.0 (France) Attribution: tatoeba.org #2250990 (CK) & #2364435 (siener)\n",
            "That's logical.\tDis logies.\tCC-BY 2.0 (France) Attribution: tatoeba.org #2187259 (CK) & #2535559 (winterstream)\n",
            "Those are mine.\tDit behoort aan my.\tCC-BY 2.0 (France) Attribution: tatoeba.org #1898060 (CK) & #5683714 (CJuser01)\n",
            "Tom moved away.\tTom het weg getrek.\tCC-BY 2.0 (France) Attribution: tatoeba.org #6440622 (CK) & #6456494 (Dewald)\n",
            "Tom won't help.\tTom sal nie help nie.\tCC-BY 2.0 (France) Attribution: tatoeba.org #6440621 (CK) & #6456495 (Dewald)\n",
            "Tom won't lose.\tTom sal nie verloor nie.\tCC-BY 2.0 (France) Attribution: tatoeba.org #6440620 (CK) & #6456496 (Dewald)\n",
            "Try this sauce.\tProbeer hierdie sous.\tCC-BY 2.0 (France) Attribution: tatoeba.org #60931 (CK) & #3435795 (siener)\n",
            "Can you open it?\tKan jy dit oopmaak?\tCC-BY 2.0 (France) Attribution: tatoeba.org #1886250 (CK) & #6007368 (CJuser01)\n",
            "Cats catch mice.\tKatte vang muise.\tCC-BY 2.0 (France) Attribution: tatoeba.org #35814 (CK) & #4332775 (Superdooperhero)\n",
            "Congratulations!\tBaie geluk!\tCC-BY 2.0 (France) Attribution: tatoeba.org #1437 (CK) & #7968456 (swart)\n",
            "Do you know her?\tKen jy hierdie dame?\tCC-BY 2.0 (France) Attribution: tatoeba.org #317616 (CK) & #5549084 (CJuser01)\n",
            "How could it be?\tHoe kan dit wees?\tCC-BY 2.0 (France) Attribution: tatoeba.org #1931911 (Spamster) & #2364467 (siener)\n",
            "I caught a cold.\tEk het verkoue gekry.\tCC-BY 2.0 (France) Attribution: tatoeba.org #261585 (CK) & #2364372 (siener)\n",
            "I have dry skin.\tEk het 'n droeë vel.\tCC-BY 2.0 (France) Attribution: tatoeba.org #282662 (CK) & #1598514 (bccwil)\n",
            "I will join you.\tEk sal saam met jou kom.\tCC-BY 2.0 (France) Attribution: tatoeba.org #2146013 (Maralula) & #2364260 (siener)\n",
            "Is it necessary?\tIs dit nodig?\tCC-BY 2.0 (France) Attribution: tatoeba.org #7465892 (megamanenm) & #2535502 (winterstream)\n",
            "Look behind you.\tKyk agter jou.\tCC-BY 2.0 (France) Attribution: tatoeba.org #433623 (CK) & #5507226 (CJuser01)\n",
            "Parties are fun.\tPartytjies is lekker.\tCC-BY 2.0 (France) Attribution: tatoeba.org #1841590 (CK) & #5889514 (CJuser01)\n",
            "Please trust me.\tVetrou my asseblief.\tCC-BY 2.0 (France) Attribution: tatoeba.org #6440619 (CK) & #6456497 (Dewald)\n",
            "She adores cats.\tSy hou van katte.\tCC-BY 2.0 (France) Attribution: tatoeba.org #311908 (CS) & #4332776 (Superdooperhero)\n",
            "Tom already ate.\tTom het reeds geëet.\tCC-BY 2.0 (France) Attribution: tatoeba.org #6440618 (CK) & #6456498 (Dewald)\n",
            "Tom got wounded.\tTom het 'n besering opgedoen.\tCC-BY 2.0 (France) Attribution: tatoeba.org #6440617 (CK) & #6456499 (Dewald)\n",
            "Tom has secrets.\tTom het geheime.\tCC-BY 2.0 (France) Attribution: tatoeba.org #6440616 (CK) & #6456500 (Dewald)\n",
            "Tom kept trying.\tTom het aanhou probeer.\tCC-BY 2.0 (France) Attribution: tatoeba.org #6440615 (CK) & #6456501 (Dewald)\n",
            "Tom looked pale.\tTom het bleek gelyk.\tCC-BY 2.0 (France) Attribution: tatoeba.org #6440614 (CK) & #6456502 (Dewald)\n",
            "Tom made coffee.\tTom het koffie gemaak.\tCC-BY 2.0 (France) Attribution: tatoeba.org #6440613 (CK) & #6456504 (Dewald)\n",
            "Tom never cooks.\tTom kook nooit.\tCC-BY 2.0 (France) Attribution: tatoeba.org #6440612 (CK) & #6456505 (Dewald)\n",
            "Tom ought to go.\tTom sal sekerlik gaan.\tCC-BY 2.0 (France) Attribution: tatoeba.org #6440611 (CK) & #6456506 (Dewald)\n",
            "Tom will say no.\tTom sal nee sê.\tCC-BY 2.0 (France) Attribution: tatoeba.org #6440610 (CK) & #6456508 (Dewald)\n",
            "We don't forget.\tOns vergeet nie.\tCC-BY 2.0 (France) Attribution: tatoeba.org #1137711 (CM) & #5489344 (CJuser01)\n",
            "We want it back.\tOns wil dit terug hê.\tCC-BY 2.0 (France) Attribution: tatoeba.org #2549430 (CK) & #2783924 (Diablofire)\n",
            "We're all going.\tOns almal gaan.\tCC-BY 2.0 (France) Attribution: tatoeba.org #1893656 (CK) & #2364465 (siener)\n",
            "We're relatives.\tOns is familie.\tCC-BY 2.0 (France) Attribution: tatoeba.org #7855547 (shekitten) & #5987264 (CJuser01)\n",
            "What does he do?\tWat doen hy?\tCC-BY 2.0 (France) Attribution: tatoeba.org #4732533 (CH) & #6456244 (Dewald)\n",
            "What does he do?\tWat maak hy?\tCC-BY 2.0 (France) Attribution: tatoeba.org #4732533 (CH) & #6456245 (Dewald)\n",
            "You are naughty.\tJy is stout.\tCC-BY 2.0 (France) Attribution: tatoeba.org #16789 (iamgrim) & #5529969 (CJuser01)\n",
            "Hang on a moment.\tHang aan vir 'n oomblik.\tCC-BY 2.0 (France) Attribution: tatoeba.org #6440609 (CK) & #6456509 (Dewald)\n",
            "He hates spiders.\tHy haat spinnekoppe.\tCC-BY 2.0 (France) Attribution: tatoeba.org #289720 (CK) & #4828375 (siener)\n",
            "Hold your horses.\tStadig oor die klippe.\tCC-BY 2.0 (France) Attribution: tatoeba.org #1517536 (CM) & #3328087 (Diablofire)\n",
            "I can't complain.\tEk kan nie kla nie.\tCC-BY 2.0 (France) Attribution: tatoeba.org #1216974 (CM) & #5757158 (CJuser01)\n",
            "I didn't hug Tom.\tEk het nie vir Tom omhels nie.\tCC-BY 2.0 (France) Attribution: tatoeba.org #6440608 (CK) & #6456511 (Dewald)\n",
            "I hate the rules.\tEk haat die voorskrifte.\tCC-BY 2.0 (France) Attribution: tatoeba.org #2343818 (AlanF_US) & #3437717 (Diablofire)\n",
            "I need your help.\tEk kort jou hulp.\tCC-BY 2.0 (France) Attribution: tatoeba.org #257113 (CK) & #385199 (NielDLR)\n",
            "I want Tom to go.\tEk wil hê tom moet gaan.\tCC-BY 2.0 (France) Attribution: tatoeba.org #6440607 (CK) & #6456512 (Dewald)\n",
            "I want Tom to go.\tEk wil hê tom moet verlaat.\tCC-BY 2.0 (France) Attribution: tatoeba.org #6440607 (CK) & #6456513 (Dewald)\n",
            "I won't be quiet.\tEk sal nie stil wees nie.\tCC-BY 2.0 (France) Attribution: tatoeba.org #2549364 (CK) & #2783925 (Diablofire)\n",
            "I won't kiss Tom.\tEk sal nie Tom soen nie.\tCC-BY 2.0 (France) Attribution: tatoeba.org #6440606 (CK) & #6456514 (Dewald)\n",
            "I won't kiss Tom.\tEk weier om vir Tom te soen.\tCC-BY 2.0 (France) Attribution: tatoeba.org #6440606 (CK) & #6456516 (Dewald)\n",
            "It's a good sign.\tDit is 'n goeie teken.\tCC-BY 2.0 (France) Attribution: tatoeba.org #6440605 (CK) & #6456517 (Dewald)\n",
            "May I open a can?\tMag ek 'n blikkie oopmaak?\tCC-BY 2.0 (France) Attribution: tatoeba.org #1035180 (CK) & #6007369 (CJuser01)\n",
            "Music is my life.\tMusiek is my lewe.\tCC-BY 2.0 (France) Attribution: tatoeba.org #6440604 (CK) & #6456518 (Dewald)\n",
            "My French is bad.\tMy Fraans is sleg.\tCC-BY 2.0 (France) Attribution: tatoeba.org #6440603 (CK) & #6456519 (Dewald)\n",
            "My wallet's gone.\tMy beursie het verdwyn.\tCC-BY 2.0 (France) Attribution: tatoeba.org #2199773 (Hybrid) & #5801384 (CJuser01)\n",
            "Please go faster.\tGaan asseblief vinniger.\tCC-BY 2.0 (France) Attribution: tatoeba.org #6440602 (CK) & #6456520 (Dewald)\n",
            "That book's mine.\tDaardie boek behoort aan my.\tCC-BY 2.0 (France) Attribution: tatoeba.org #6440601 (CK) & #6456521 (Dewald)\n",
            "That book's mine.\tDaardie boek is myne.\tCC-BY 2.0 (France) Attribution: tatoeba.org #6440601 (CK) & #6456522 (Dewald)\n",
            "The bill, please.\tDie rekening asseblief.\tCC-BY 2.0 (France) Attribution: tatoeba.org #462578 (lukaszpp) & #1590504 (bccwil)\n",
            "The bus was full.\tDie bus was vol.\tCC-BY 2.0 (France) Attribution: tatoeba.org #1233916 (tsayng) & #5868899 (CJuser01)\n",
            "They all changed.\tHulle't almal verander.\tCC-BY 2.0 (France) Attribution: tatoeba.org #2243013 (CK) & #2364265 (siener)\n",
            "This isn't right.\tDit is nie reg nie.\tCC-BY 2.0 (France) Attribution: tatoeba.org #1871885 (CK) & #2783414 (Diablofire)\n",
            "Tom didn't leave.\tTom het nie verlaat nie.\tCC-BY 2.0 (France) Attribution: tatoeba.org #6440600 (CK) & #6456523 (Dewald)\n",
            "Tom didn't leave.\tTom het nie gegaan nie.\tCC-BY 2.0 (France) Attribution: tatoeba.org #6440600 (CK) & #6456524 (Dewald)\n",
            "Tom got up early.\tTom het vroeg op gestaan.\tCC-BY 2.0 (France) Attribution: tatoeba.org #6440599 (CK) & #6456525 (Dewald)\n",
            "Tom is trembling.\tTom bewe.\tCC-BY 2.0 (France) Attribution: tatoeba.org #6440598 (CK) & #6456526 (Dewald)\n",
            "Tom is very hurt.\tTom is baie seer.\tCC-BY 2.0 (France) Attribution: tatoeba.org #6440597 (CK) & #6456527 (Dewald)\n",
            "Tom let me drive.\tTom laat my toe om te bestuur.\tCC-BY 2.0 (France) Attribution: tatoeba.org #6440596 (CK) & #6456528 (Dewald)\n",
            "Tom must've died.\tTom moes dood gegaan het.\tCC-BY 2.0 (France) Attribution: tatoeba.org #6440595 (CK) & #6456529 (Dewald)\n",
            "Tom needed to go.\tTom moes gaan.\tCC-BY 2.0 (France) Attribution: tatoeba.org #6440594 (CK) & #6456487 (Dewald)\n",
            "Tom was captured.\tTom was gevangenis geneem.\tCC-BY 2.0 (France) Attribution: tatoeba.org #6440593 (CK) & #6456530 (Dewald)\n",
            "Tom was captured.\tTom was gevang.\tCC-BY 2.0 (France) Attribution: tatoeba.org #6440593 (CK) & #6456531 (Dewald)\n",
            "Tom will be late.\tTom sal laat wees.\tCC-BY 2.0 (France) Attribution: tatoeba.org #6440592 (CK) & #6456532 (Dewald)\n",
            "Tom will miss me.\tTom sal my mis.\tCC-BY 2.0 (France) Attribution: tatoeba.org #6440591 (CK) & #6456533 (Dewald)\n",
            "Tom will pay you.\tTom sal jou betaal.\tCC-BY 2.0 (France) Attribution: tatoeba.org #6440590 (CK) & #6456534 (Dewald)\n",
            "Tom won't change.\tTom sal nie verander nie.\tCC-BY 2.0 (France) Attribution: tatoeba.org #6440589 (CK) & #6456535 (Dewald)\n",
            "Tom won't object.\tTom sal nie beswaar maak nie.\tCC-BY 2.0 (France) Attribution: tatoeba.org #6440588 (CK) & #6456537 (Dewald)\n",
            "Tom won't resign.\tTom sal nie oorgee nie.\tCC-BY 2.0 (France) Attribution: tatoeba.org #6440587 (CK) & #6456538 (Dewald)\n",
            "Tom won't say no.\tTom sal nie nee sê nie.\tCC-BY 2.0 (France) Attribution: tatoeba.org #6440586 (CK) & #6456539 (Dewald)\n",
            "Tom won't see me.\tTom sal my nie sien nie.\tCC-BY 2.0 (France) Attribution: tatoeba.org #6440585 (CK) & #6456540 (Dewald)\n",
            "Tom wouldn't cry.\tTom sal nie huil nie.\tCC-BY 2.0 (France) Attribution: tatoeba.org #6440584 (CK) & #6456541 (Dewald)\n",
            "Tom wouldn't eat.\tTom sal nie eet nie.\tCC-BY 2.0 (France) Attribution: tatoeba.org #6440583 (CK) & #6456542 (Dewald)\n",
            "Was it your idea?\tWas dit jou idee?\tCC-BY 2.0 (France) Attribution: tatoeba.org #2298158 (Hybrid) & #8873950 (siener)\n",
            "We have two kids.\tOns het twee kinders.\tCC-BY 2.0 (France) Attribution: tatoeba.org #408163 (FeuDRenais) & #2364242 (siener)\n",
            "Where's the bank?\tWaar is die bank?\tCC-BY 2.0 (France) Attribution: tatoeba.org #508288 (FeuDRenais) & #1054514 (siener)\n",
            "Who is that lady?\tWie is daardie vrou?\tCC-BY 2.0 (France) Attribution: tatoeba.org #68692 (CK) & #6456543 (Dewald)\n",
            "Who is this lady?\tWie is hierdie dame?\tCC-BY 2.0 (France) Attribution: tatoeba.org #782798 (Manfredo) & #5549083 (CJuser01)\n",
            "Who's that woman?\tWie is daardie vrou?\tCC-BY 2.0 (France) Attribution: tatoeba.org #6440582 (CK) & #6456543 (Dewald)\n",
            "Why is Tom early?\tWaarom is Tom vroeg?\tCC-BY 2.0 (France) Attribution: tatoeba.org #6440581 (CK) & #6456544 (Dewald)\n",
            "Classes end today.\tKlasse eindig vandag.\tCC-BY 2.0 (France) Attribution: tatoeba.org #6440580 (CK) & #6456545 (Dewald)\n",
            "Could I get a hug?\tKan ek 'n drukkie kry?\tCC-BY 2.0 (France) Attribution: tatoeba.org #6440579 (CK) & #6456546 (Dewald)\n",
            "Do you have a car?\tHet jy 'n kar?\tCC-BY 2.0 (France) Attribution: tatoeba.org #69236 (CK) & #759037 (siener)\n",
            "Do you have a car?\tHet julle 'n kar?\tCC-BY 2.0 (France) Attribution: tatoeba.org #69236 (CK) & #759040 (siener)\n",
            "Does Tom eat meat?\tEet Tom vleis?\tCC-BY 2.0 (France) Attribution: tatoeba.org #6440578 (CK) & #6456547 (Dewald)\n",
            "Don't talk to Tom.\tMoenie met Tom praat nie.\tCC-BY 2.0 (France) Attribution: tatoeba.org #2261221 (CK) & #2364380 (siener)\n",
            "He is a gentleman.\tHy is 'n gentleman.\tCC-BY 2.0 (France) Attribution: tatoeba.org #300002 (CK) & #661807 (winterstream)\n",
            "How are you doing?\tHoe gaan dit met jou?\tCC-BY 2.0 (France) Attribution: tatoeba.org #38926 (Zifre) & #8744331 (aucampia)\n",
            "How disappointing!\tHoe teleurstellend!\tCC-BY 2.0 (France) Attribution: tatoeba.org #6440577 (CK) & #6456548 (Dewald)\n",
            "How was your stay?\tHoe was u verblyf?\tCC-BY 2.0 (France) Attribution: tatoeba.org #275338 (CK) & #6007365 (CJuser01)\n",
            "I also kissed Tom.\tEk het ook vir Tom gesoen.\tCC-BY 2.0 (France) Attribution: tatoeba.org #6440576 (CK) & #6456549 (Dewald)\n",
            "I have three dogs.\tEk het drie honde.\tCC-BY 2.0 (France) Attribution: tatoeba.org #289638 (CK) & #823229 (siener)\n",
            "I regretted lying.\tEk betreur dat ek gelieg het.\tCC-BY 2.0 (France) Attribution: tatoeba.org #6440575 (CK) & #6456550 (Dewald)\n",
            "I'll give it back.\tEk sal dit terug gee.\tCC-BY 2.0 (France) Attribution: tatoeba.org #2549105 (CK) & #2783911 (Diablofire)\n",
            "Is Mary your wife?\tIs Mary jou vrou?\tCC-BY 2.0 (France) Attribution: tatoeba.org #6440574 (CK) & #6456551 (Dewald)\n",
            "Is Tom a good guy?\tIs Tom 'n goeie vent?\tCC-BY 2.0 (France) Attribution: tatoeba.org #6449459 (CK) & #6456476 (Dewald)\n",
            "Is that a problem?\tIs dit 'n probleem?\tCC-BY 2.0 (France) Attribution: tatoeba.org #1886914 (CK) & #2364261 (siener)\n",
            "Is that necessary?\tIs dit nodig?\tCC-BY 2.0 (France) Attribution: tatoeba.org #2248488 (CK) & #2535502 (winterstream)\n",
            "It's a bit chilly.\tDit is 'n bietjie koel.\tCC-BY 2.0 (France) Attribution: tatoeba.org #6440573 (CK) & #6456552 (Dewald)\n",
            "My father is busy.\tMy vader is besig.\tCC-BY 2.0 (France) Attribution: tatoeba.org #251731 (CK) & #3437719 (Diablofire)\n",
            "The check, please.\tDie rekening asseblief.\tCC-BY 2.0 (France) Attribution: tatoeba.org #1710 (brauliobezerra) & #1590504 (bccwil)\n",
            "They want it back.\tHulle soek dit terug.\tCC-BY 2.0 (France) Attribution: tatoeba.org #2549016 (CK) & #2783912 (Diablofire)\n",
            "This is my friend.\tDit is my vriend.\tCC-BY 2.0 (France) Attribution: tatoeba.org #675960 (CK) & #675962 (Diablofire)\n",
            "Tom came to visit.\tTom het kom kuier.\tCC-BY 2.0 (France) Attribution: tatoeba.org #6440572 (CK) & #6456553 (Dewald)\n",
            "Tom can show Mary.\tTom kan Mary wys.\tCC-BY 2.0 (France) Attribution: tatoeba.org #6440571 (CK) & #6456554 (Dewald)\n",
            "Tom cried all day.\tTom het heeldag gehuil.\tCC-BY 2.0 (France) Attribution: tatoeba.org #6440570 (CK) & #6456555 (Dewald)\n",
            "Tom got home late.\tTom het laat tuis gekom.\tCC-BY 2.0 (France) Attribution: tatoeba.org #6440569 (CK) & #6456556 (Dewald)\n",
            "Tom has a rowboat.\tTom het 'n roeiboot.\tCC-BY 2.0 (France) Attribution: tatoeba.org #6440567 (CK) & #6458253 (Dewald)\n",
            "Tom has moved out.\tTom het uit getrek.\tCC-BY 2.0 (France) Attribution: tatoeba.org #6440566 (CK) & #6458254 (Dewald)\n",
            "Tom is free to go.\tTom is vry om te gaan.\tCC-BY 2.0 (France) Attribution: tatoeba.org #6440565 (CK) & #6458255 (Dewald)\n",
            "Tom is in the van.\tTom is in die bus.\tCC-BY 2.0 (France) Attribution: tatoeba.org #6440564 (CK) & #6458256 (Dewald)\n",
            "Tom let Mary talk.\tTom laat Mary toe om te praat.\tCC-BY 2.0 (France) Attribution: tatoeba.org #6440563 (CK) & #6458257 (Dewald)\n",
            "Tom let Mary talk.\tTom gee Mary 'n spreekbeurt.\tCC-BY 2.0 (France) Attribution: tatoeba.org #6440563 (CK) & #6458258 (Dewald)\n",
            "Tom looked closer.\tTom het nader gekyk.\tCC-BY 2.0 (France) Attribution: tatoeba.org #6440562 (CK) & #6458259 (Dewald)\n",
            "Tom may have died.\tTom kon dalk dood gegaan het.\tCC-BY 2.0 (France) Attribution: tatoeba.org #6440561 (CK) & #6458260 (Dewald)\n",
            "Tom might not die.\tTom mag nie dood gaan nie.\tCC-BY 2.0 (France) Attribution: tatoeba.org #6440560 (CK) & #6458261 (Dewald)\n",
            "Tom might've died.\tTom kon dood gegaan het.\tCC-BY 2.0 (France) Attribution: tatoeba.org #6440559 (CK) & #6458262 (Dewald)\n",
            "Tom must be angry.\tTom moet kwaad wees.\tCC-BY 2.0 (France) Attribution: tatoeba.org #2548974 (CK) & #2783913 (Diablofire)\n",
            "Tom probably died.\tTom het heelwaarskynlik dood gegaan.\tCC-BY 2.0 (France) Attribution: tatoeba.org #6440558 (CK) & #6458263 (Dewald)\n",
            "Tom saw Mary fall.\tTom het Mary gesien val.\tCC-BY 2.0 (France) Attribution: tatoeba.org #6440557 (CK) & #6458264 (Dewald)\n",
            "Tom shot the wolf.\tTom het die wolf geskiet.\tCC-BY 2.0 (France) Attribution: tatoeba.org #6440556 (CK) & #6458265 (Dewald)\n",
            "Tom was busy then.\tTom was toe besig.\tCC-BY 2.0 (France) Attribution: tatoeba.org #6440555 (CK) & #6458266 (Dewald)\n",
            "Tom was here then.\tTom was toe hier.\tCC-BY 2.0 (France) Attribution: tatoeba.org #6440554 (CK) & #6458267 (Dewald)\n",
            "Tom went in there.\tTom het daar in gegaan.\tCC-BY 2.0 (France) Attribution: tatoeba.org #6440552 (CK) & #6459227 (Dewald)\n",
            "Tom will be sorry.\tTom sal jammer wees.\tCC-BY 2.0 (France) Attribution: tatoeba.org #6440551 (CK) & #6459228 (Dewald)\n",
            "Tom will beat you.\tTom sal jou wen.\tCC-BY 2.0 (France) Attribution: tatoeba.org #6440550 (CK) & #6459229 (Dewald)\n",
            "Tom will enjoy it.\tTom sal dit geniet.\tCC-BY 2.0 (France) Attribution: tatoeba.org #6440549 (CK) & #6459231 (Dewald)\n",
            "Tom will get hurt.\tTom sal seer kry.\tCC-BY 2.0 (France) Attribution: tatoeba.org #6440548 (CK) & #6459233 (Dewald)\n",
            "Tom will have fun.\tTom sal pret hê.\tCC-BY 2.0 (France) Attribution: tatoeba.org #6440547 (CK) & #6459232 (Dewald)\n",
            "Tom won't confess.\tTom sal nie bely nie.\tCC-BY 2.0 (France) Attribution: tatoeba.org #6440546 (CK) & #6459235 (Dewald)\n",
            "Tom won't hurt me.\tTom sal my nie seer maak nie.\tCC-BY 2.0 (France) Attribution: tatoeba.org #6440545 (CK) & #6459236 (Dewald)\n",
            "Tom won't hurt us.\tTom sal ons nie seer makk nie.\tCC-BY 2.0 (France) Attribution: tatoeba.org #6440544 (CK) & #6459239 (Dewald)\n",
            "Tom won't make it.\tTom sal dit nie maak nie.\tCC-BY 2.0 (France) Attribution: tatoeba.org #6440543 (CK) & #6459238 (Dewald)\n",
            "Tom won't risk it.\tTom sal dit nie waag nie.\tCC-BY 2.0 (France) Attribution: tatoeba.org #6440542 (CK) & #6459241 (Dewald)\n",
            "Tom wouldn't care.\tTom sal nie omgee nie.\tCC-BY 2.0 (France) Attribution: tatoeba.org #6440541 (CK) & #6459240 (Dewald)\n",
            "Where is the bank?\tWaar is die bank?\tCC-BY 2.0 (France) Attribution: tatoeba.org #48623 (CK) & #1054514 (siener)\n",
            "Who is that woman?\tWie is daardie vrou?\tCC-BY 2.0 (France) Attribution: tatoeba.org #68238 (CK) & #6456543 (Dewald)\n",
            "Why are you early?\tWaarom is jy vroeg?\tCC-BY 2.0 (France) Attribution: tatoeba.org #6440540 (CK) & #6459242 (Dewald)\n",
            "You can't miss it.\tJy kan dit nie mis nie.\tCC-BY 2.0 (France) Attribution: tatoeba.org #52103 (CK) & #3976230 (siener)\n",
            "You work too much.\tJulle werk te veel.\tCC-BY 2.0 (France) Attribution: tatoeba.org #454444 (FeuDRenais) & #1605017 (bccwil)\n",
            "Do you like sports?\tHou jy van sport?\tCC-BY 2.0 (France) Attribution: tatoeba.org #70012 (CK) & #5945856 (CJuser01)\n",
            "He asked my mother.\tHy het my ma gevra.\tCC-BY 2.0 (France) Attribution: tatoeba.org #749761 (sctld) & #4332758 (Superdooperhero)\n",
            "Help! I'm drowning!\tHelp! Ek verdrink!\tCC-BY 2.0 (France) Attribution: tatoeba.org #1041632 (mangodurian) & #2535527 (winterstream)\n",
            "I call Boston home.\tEk noem Boston my tuiste.\tCC-BY 2.0 (France) Attribution: tatoeba.org #6440539 (CK) & #6459244 (Dewald)\n",
            "I need an envelope.\tEk benodig 'n koevert.\tCC-BY 2.0 (France) Attribution: tatoeba.org #319648 (CK) & #7011081 (siener)\n",
            "I won't be coerced.\tI wil nie gedwing wees nie.\tCC-BY 2.0 (France) Attribution: tatoeba.org #2548823 (CK) & #2783915 (Diablofire)\n",
            "I'll bring it back.\tEk sal dit terug bring.\tCC-BY 2.0 (France) Attribution: tatoeba.org #2548800 (CK) & #2783917 (Diablofire)\n",
            "I'm giving it back.\tEk gee dit terug.\tCC-BY 2.0 (France) Attribution: tatoeba.org #2548731 (CK) & #2783919 (Diablofire)\n",
            "I've got a partner.\tEk het 'n maat.\tCC-BY 2.0 (France) Attribution: tatoeba.org #2359608 (CK) & #2535561 (winterstream)\n",
            "Mary is Tom's wife.\tMary is Tom se vrou.\tCC-BY 2.0 (France) Attribution: tatoeba.org #1030059 (CK) & #1450311 (Diablofire)\n",
            "Now, don't be late.\tMoet nie nou laat wees nie.\tCC-BY 2.0 (France) Attribution: tatoeba.org #2548649 (CK) & #2783920 (Diablofire)\n",
            "The paper is white.\tPapier is wit.\tCC-BY 2.0 (France) Attribution: tatoeba.org #853345 (adalpari) & #5922795 (CJuser01)\n",
            "They left together.\tHulle is saam weg.\tCC-BY 2.0 (France) Attribution: tatoeba.org #2243219 (CK) & #2364291 (siener)\n",
            "Tom came home late.\tTom het laat tuis gekom.\tCC-BY 2.0 (France) Attribution: tatoeba.org #5103517 (CK) & #6456556 (Dewald)\n",
            "Tom must be lonely.\tToom moet eensellig wees.\tCC-BY 2.0 (France) Attribution: tatoeba.org #2548567 (CK) & #2783921 (Diablofire)\n",
            "Tom was also drunk.\tTom was ook dronk.\tCC-BY 2.0 (France) Attribution: tatoeba.org #9150021 (Joules) & #5678232 (CJuser01)\n",
            "We drank some wine.\tOns het wyn gedrink.\tCC-BY 2.0 (France) Attribution: tatoeba.org #2309306 (Hybrid) & #5529945 (CJuser01)\n",
            "What a coincidence!\tWat 'n toeval!\tCC-BY 2.0 (France) Attribution: tatoeba.org #18131 (CK) & #5649879 (CJuser01)\n",
            "What are you doing?\tWat maak julle?\tCC-BY 2.0 (France) Attribution: tatoeba.org #16492 (CK) & #2364220 (siener)\n",
            "Where's the toilet?\tWaar is die toilet?\tCC-BY 2.0 (France) Attribution: tatoeba.org #38938 (CK) & #5968893 (CJuser01)\n",
            "Did you read it all?\tHet jy alles gelees?\tCC-BY 2.0 (France) Attribution: tatoeba.org #3327931 (CK) & #3328054 (Diablofire)\n",
            "He worked very hard.\tHy't hard gewerk.\tCC-BY 2.0 (France) Attribution: tatoeba.org #291584 (CK) & #2364379 (siener)\n",
            "I won't forget that.\tEk sal dit nie vergeet nie.\tCC-BY 2.0 (France) Attribution: tatoeba.org #1406497 (CK) & #2364312 (siener)\n",
            "I'm not backing out.\tEk gaan nie uittree nie.\tCC-BY 2.0 (France) Attribution: tatoeba.org #2548230 (CK) & #2784080 (Diablofire)\n",
            "I'm not blaming you.\tEk blameer jou nie.\tCC-BY 2.0 (France) Attribution: tatoeba.org #2548229 (CK) & #2783871 (Diablofire)\n",
            "I'm thinking of you.\tEk dink aan U.\tCC-BY 2.0 (France) Attribution: tatoeba.org #628625 (CK) & #5237606 (siener)\n",
            "My sister is pretty.\tMy suster is mooi.\tCC-BY 2.0 (France) Attribution: tatoeba.org #251899 (CK) & #822093 (siener)\n",
            "Peaches taste sweet.\tPerskes proe soet.\tCC-BY 2.0 (France) Attribution: tatoeba.org #279845 (CK) & #3435570 (siener)\n",
            "She went on working.\tSy het aangehou werk.\tCC-BY 2.0 (France) Attribution: tatoeba.org #316007 (CK) & #387067 (NielDLR)\n",
            "That's quite enough!\tDis nou genoeg!\tCC-BY 2.0 (France) Attribution: tatoeba.org #7330245 (shekitten) & #7331454 (Diablofire)\n",
            "That's why I'm here.\tDis hoekom ek hier is.\tCC-BY 2.0 (France) Attribution: tatoeba.org #1779930 (Spamster) & #3445688 (siener)\n",
            "Tom stood up for me.\tTom het vir my opgestaan.\tCC-BY 2.0 (France) Attribution: tatoeba.org #7329866 (AlanF_US) & #7331456 (Diablofire)\n",
            "Tom won't back down.\tTom gaan nie afstaan nie.\tCC-BY 2.0 (France) Attribution: tatoeba.org #2548050 (CK) & #2783870 (Diablofire)\n",
            "Turn down the radio.\tDraai die radio sagter.\tCC-BY 2.0 (France) Attribution: tatoeba.org #29779 (CK) & #5671376 (CJuser01)\n",
            "Turn the radio down.\tDraai die radio sagter.\tCC-BY 2.0 (France) Attribution: tatoeba.org #29788 (CK) & #5671376 (CJuser01)\n",
            "We're in the forest.\tOns is in die woud.\tCC-BY 2.0 (France) Attribution: tatoeba.org #8064475 (CK) & #5659856 (CJuser01)\n",
            "Where is the school?\tWaar is die skool?\tCC-BY 2.0 (France) Attribution: tatoeba.org #1054512 (Eldad) & #1054520 (siener)\n",
            "You can go now, sir.\tJy mag nou maar gaan meneer.\tCC-BY 2.0 (France) Attribution: tatoeba.org #241113 (CK) & #384917 (NielDLR)\n",
            "You must be careful.\tJy moet versigtig wees.\tCC-BY 2.0 (France) Attribution: tatoeba.org #2547992 (CK) & #2783869 (Diablofire)\n",
            "You should meet him.\tJy moet hom ontmoet.\tCC-BY 2.0 (France) Attribution: tatoeba.org #498153 (darinmex) & #5458805 (CJuser01)\n",
            "You're a bright boy.\tJy is 'n helder seuntjie.\tCC-BY 2.0 (France) Attribution: tatoeba.org #2547982 (CK) & #2783867 (Diablofire)\n",
            "Your tie is crooked.\tJou das is skeef.\tCC-BY 2.0 (France) Attribution: tatoeba.org #35826 (CK) & #387074 (NielDLR)\n",
            "Can I extend my stay?\tKan ek my verblyf verleng?\tCC-BY 2.0 (France) Attribution: tatoeba.org #327389 (CK) & #6007366 (CJuser01)\n",
            "Can I take a day off?\tMag ek 'n dag verlof neem?\tCC-BY 2.0 (France) Attribution: tatoeba.org #501862 (darinmex) & #2535551 (winterstream)\n",
            "Have you seen my key?\tHet jy my sleutel gesien ?\tCC-BY 2.0 (France) Attribution: tatoeba.org #9150033 (Joules) & #1730380 (bccwil)\n",
            "Here's your sandwich.\tHier is jou toebroodjie.\tCC-BY 2.0 (France) Attribution: tatoeba.org #8341075 (CK) & #8637982 (Snowfox201)\n",
            "I believe your story.\tEk glo jou storie.\tCC-BY 2.0 (France) Attribution: tatoeba.org #2294009 (CK) & #2364452 (siener)\n",
            "I don't scare easily.\tEk skrik nie maklik nie.\tCC-BY 2.0 (France) Attribution: tatoeba.org #2271913 (CK) & #2535553 (winterstream)\n",
            "I don't trust myself.\tEk vertrou myself nie.\tCC-BY 2.0 (France) Attribution: tatoeba.org #2271924 (CK) & #2364373 (siener)\n",
            "I need authorization.\tEk kort toestemming.\tCC-BY 2.0 (France) Attribution: tatoeba.org #2246001 (CK) & #5551739 (CJuser01)\n",
            "I won't be here long.\tEk gaan nie lank hier wees nie.\tCC-BY 2.0 (France) Attribution: tatoeba.org #2547890 (CK) & #2783866 (Diablofire)\n",
            "I wouldn't bet on it.\tEk sou nie daarop wed nie.\tCC-BY 2.0 (France) Attribution: tatoeba.org #2547884 (CK) & #2784081 (Diablofire)\n",
            "I wouldn't blame Tom.\tEk sou nie Tom blameer nie.\tCC-BY 2.0 (France) Attribution: tatoeba.org #2547883 (CK) & #2783865 (Diablofire)\n",
            "I wouldn't blame you.\tEk sou nie jou blameer nie.\tCC-BY 2.0 (France) Attribution: tatoeba.org #2547882 (CK) & #2783864 (Diablofire)\n",
            "I'll be very careful.\tEk sal baie versigtig wees.\tCC-BY 2.0 (France) Attribution: tatoeba.org #2590925 (CK) & #2783855 (Diablofire)\n",
            "Is it hot over there?\tIs dit warm daarso?\tCC-BY 2.0 (France) Attribution: tatoeba.org #50759 (CK) & #2535517 (winterstream)\n",
            "Mary is Tom's sister.\tMary is Tom se suster.\tCC-BY 2.0 (France) Attribution: tatoeba.org #1030060 (CK) & #1450321 (Diablofire)\n",
            "That's pretty normal.\tDaai is redelik normaal.\tCC-BY 2.0 (France) Attribution: tatoeba.org #2591261 (CK) & #2783860 (Diablofire)\n",
            "They laughed quietly.\tHulle het saggies gelag.\tCC-BY 2.0 (France) Attribution: tatoeba.org #2243218 (CK) & #5671338 (CJuser01)\n",
            "Tom never got better.\tTom het nooit beter geword nie.\tCC-BY 2.0 (France) Attribution: tatoeba.org #2547562 (CK) & #2783863 (Diablofire)\n",
            "Tom went back inside.\tTom het terug binne gegaan.\tCC-BY 2.0 (France) Attribution: tatoeba.org #2547526 (CK) & #2783872 (Diablofire)\n",
            "Welcome to Australia.\tWelkom in Australië.\tCC-BY 2.0 (France) Attribution: tatoeba.org #2254495 (CK) & #2364264 (siener)\n",
            "Where's your luggage?\tWaar is jou bagasie?\tCC-BY 2.0 (France) Attribution: tatoeba.org #2646718 (CK) & #5781030 (CJuser01)\n",
            "You are not a doctor.\tJy is nie 'n dokter nie.\tCC-BY 2.0 (France) Attribution: tatoeba.org #69692 (CK) & #2783418 (Diablofire)\n",
            "You can't be serious.\tJy kan nie ernstig wees nie.\tCC-BY 2.0 (France) Attribution: tatoeba.org #322129 (CK) & #3445625 (siener)\n",
            "You weren't that bad.\tJy was nie so sleg nie.\tCC-BY 2.0 (France) Attribution: tatoeba.org #2547459 (CK) & #2783939 (Diablofire)\n",
            "Are you afraid to die?\tIs jy bank om te sterf?\tCC-BY 2.0 (France) Attribution: tatoeba.org #2335838 (loghaD) & #2783427 (Diablofire)\n",
            "Can I come over later?\tKan ek oorkom later?\tCC-BY 2.0 (France) Attribution: tatoeba.org #3327794 (CK) & #3328197 (Diablofire)\n",
            "Can I fix you a drink?\tKan ek vir jou 'n drankie maak?\tCC-BY 2.0 (France) Attribution: tatoeba.org #3327800 (CK) & #3328107 (Diablofire)\n",
            "Can I have this donut?\tKan ek hierdie oliebol kry?\tCC-BY 2.0 (France) Attribution: tatoeba.org #3327804 (CK) & #3328093 (Diablofire)\n",
            "Can I shake your hand?\tKan ek jou hand skud?\tCC-BY 2.0 (France) Attribution: tatoeba.org #3327798 (CK) & #3328109 (Diablofire)\n",
            "Can we lock this door?\tKan ons hierdie deur sluit?\tCC-BY 2.0 (France) Attribution: tatoeba.org #3327801 (CK) & #3328105 (Diablofire)\n",
            "Can you squeeze me in?\tKan jy my indruk?\tCC-BY 2.0 (France) Attribution: tatoeba.org #3327796 (CK) & #3328195 (Diablofire)\n",
            "Change into your suit.\tTrek jou pak aan!\tCC-BY 2.0 (France) Attribution: tatoeba.org #52363 (CK) & #5647509 (CJuser01)\n",
            "Did he go to see Mary?\tHet hy vir Mary gaan sien?\tCC-BY 2.0 (France) Attribution: tatoeba.org #293013 (CK) & #2364244 (siener)\n",
            "Do you believe in God?\tGlo jy in God?\tCC-BY 2.0 (France) Attribution: tatoeba.org #15971 (Swift) & #753055 (winterstream)\n",
            "Does Tom already know?\tWeet Tom al?\tCC-BY 2.0 (France) Attribution: tatoeba.org #4870546 (zvzuibqx) & #4828369 (siener)\n",
            "He was snoring loudly.\tHy was besig om hard te snork.\tCC-BY 2.0 (France) Attribution: tatoeba.org #1934973 (Spamster) & #2364282 (siener)\n",
            "How much does it cost?\tHoeveel kos dit?\tCC-BY 2.0 (France) Attribution: tatoeba.org #436193 (lukaszpp) & #8506540 (aucampia)\n",
            "I go to bed about ten.\tEk gaan slaap om tien.\tCC-BY 2.0 (France) Attribution: tatoeba.org #252409 (CK) & #2364311 (siener)\n",
            "I have certain rights.\tEk het sekere regte.\tCC-BY 2.0 (France) Attribution: tatoeba.org #2359373 (CK) & #4608773 (siener)\n",
            "I plan on being early.\tEk beplan om vroeg te wees.\tCC-BY 2.0 (France) Attribution: tatoeba.org #2389864 (CK) & #2783277 (Diablofire)\n",
            "I wouldn't be so sure.\tEk sou nie so seker wees nie.\tCC-BY 2.0 (France) Attribution: tatoeba.org #2547327 (CK) & #2783937 (Diablofire)\n",
            "I wouldn't blame them.\tEk sou nie hulle blameer nie.\tCC-BY 2.0 (France) Attribution: tatoeba.org #2547326 (CK) & #2783936 (Diablofire)\n",
            "I'm just being polite.\tEk probeer net beleefd wees.\tCC-BY 2.0 (France) Attribution: tatoeba.org #2547182 (CK) & #2783934 (Diablofire)\n",
            "I'm looking for a job.\tEk soek werk.\tCC-BY 2.0 (France) Attribution: tatoeba.org #245454 (CK) & #846136 (siener)\n",
            "I'm used to it by now.\tEk is al gewoond daaraan teen nou.\tCC-BY 2.0 (France) Attribution: tatoeba.org #2547089 (CK) & #2783932 (Diablofire)\n",
            "I'm used to it by now.\tEk is nou al gewoond daaraan.\tCC-BY 2.0 (France) Attribution: tatoeba.org #2547089 (CK) & #2970746 (bccwil)\n",
            "Is breakfast included?\tIs ontbyt ingesluit?\tCC-BY 2.0 (France) Attribution: tatoeba.org #4870573 (zvzuibqx) & #4263581 (siener)\n",
            "May I shake your hand?\tKan ek jou hand skud?\tCC-BY 2.0 (France) Attribution: tatoeba.org #4869841 (zvzuibqx) & #3328109 (Diablofire)\n",
            "No one speaks with me.\tNiemand praat met my nie.\tCC-BY 2.0 (France) Attribution: tatoeba.org #2591183 (CK) & #2783862 (Diablofire)\n",
            "That's the last straw!\tDis die laaste strooi.\tCC-BY 2.0 (France) Attribution: tatoeba.org #42979 (CM) & #2364270 (siener)\n",
            "They're afraid of him.\tHulle is bang vir hom.\tCC-BY 2.0 (France) Attribution: tatoeba.org #755402 (CK) & #755401 (siener)\n",
            "Tom looks inquisitive.\tTom lyk nuuskierig.\tCC-BY 2.0 (France) Attribution: tatoeba.org #2237285 (CK) & #2535566 (winterstream)\n",
            "Tom sat by the window.\tTom het by die venster gesit.\tCC-BY 2.0 (France) Attribution: tatoeba.org #2546964 (CK) & #2783931 (Diablofire)\n",
            "Tom went back outside.\tTom het terug buitentoe gegaan.\tCC-BY 2.0 (France) Attribution: tatoeba.org #2546930 (CK) & #2783930 (Diablofire)\n",
            "Tom's hands were cold.\tTom se hande was koud.\tCC-BY 2.0 (France) Attribution: tatoeba.org #3331516 (CK) & #3331629 (Diablofire)\n",
            "Who wants to go first?\tWie wil eerste wees?\tCC-BY 2.0 (France) Attribution: tatoeba.org #1804042 (Spamster) & #2364374 (siener)\n",
            "You were right before.\tJy was voorheen reg gewees.\tCC-BY 2.0 (France) Attribution: tatoeba.org #2546878 (CK) & #2783929 (Diablofire)\n",
            "Your account is empty.\tJou rekening is leeg.\tCC-BY 2.0 (France) Attribution: tatoeba.org #70339 (CK) & #5798104 (CJuser01)\n",
            "Can I bring my friends?\tKan ek my vriende bring?\tCC-BY 2.0 (France) Attribution: tatoeba.org #3327799 (CK) & #3328108 (Diablofire)\n",
            "Can I get Tom to do it?\tKan ek Tom kry om dit te doen?\tCC-BY 2.0 (France) Attribution: tatoeba.org #3327795 (CK) & #3328196 (Diablofire)\n",
            "Can you make me a copy?\tKan jy vir my 'n kopie maak?\tCC-BY 2.0 (France) Attribution: tatoeba.org #3327805 (CK) & #3328090 (Diablofire)\n",
            "Can you open this door?\tKan jy hierdie deur oopmaak?\tCC-BY 2.0 (France) Attribution: tatoeba.org #3327803 (CK) & #3328094 (Diablofire)\n",
            "Can you take over here?\tKan jy my hierso vat?\tCC-BY 2.0 (France) Attribution: tatoeba.org #3327797 (CK) & #3328110 (Diablofire)\n",
            "Can you wait that long?\tKan jy so lank wag?\tCC-BY 2.0 (France) Attribution: tatoeba.org #3327793 (CK) & #3328198 (Diablofire)\n",
            "Do you believe in UFOs?\tGlo jy in UFO's?\tCC-BY 2.0 (France) Attribution: tatoeba.org #70253 (CK) & #753049 (winterstream)\n",
            "Do you read Tom's blog?\tLees jy Tom se blog?\tCC-BY 2.0 (France) Attribution: tatoeba.org #3120903 (Hybrid) & #3438939 (siener)\n",
            "Have you seen this man?\tHet jy hierdie man gesien?\tCC-BY 2.0 (France) Attribution: tatoeba.org #758084 (CK) & #758085 (siener)\n",
            "He is proud of his son.\tHy is trots op sy seun.\tCC-BY 2.0 (France) Attribution: tatoeba.org #258309 (CK) & #876490 (siener)\n",
            "I can't judge distance.\tEk kan nie afstand skat nie.\tCC-BY 2.0 (France) Attribution: tatoeba.org #19377 (CK) & #5738978 (CJuser01)\n",
            "I earn 100 euros a day.\tEk verdien 100 euros 'n dag.\tCC-BY 2.0 (France) Attribution: tatoeba.org #4869824 (zvzuibqx) & #3451764 (siener)\n",
            "I never heard him sing.\tEk het hom nooit hoor sing nie.\tCC-BY 2.0 (France) Attribution: tatoeba.org #283453 (CK) & #1611265 (bccwil)\n",
            "I was right behind Tom.\tEk was reg agter Tom.\tCC-BY 2.0 (France) Attribution: tatoeba.org #2546781 (CK) & #2783928 (Diablofire)\n",
            "I went back to my seat.\tEk het terug na my sitplek gegaan.\tCC-BY 2.0 (France) Attribution: tatoeba.org #2546772 (CK) & #2783926 (Diablofire)\n",
            "I won't be blackmailed.\tEk gaan nie afgepers word nie.\tCC-BY 2.0 (France) Attribution: tatoeba.org #2546758 (CK) & #2784208 (Diablofire)\n",
            "I won't be intimidated.\tEk gaan nie geintimideer word nie.\tCC-BY 2.0 (France) Attribution: tatoeba.org #2546757 (CK) & #2784209 (Diablofire)\n",
            "I wouldn't bet on that.\tEk sou nie daarop wed nie.\tCC-BY 2.0 (France) Attribution: tatoeba.org #2546748 (CK) & #2784081 (Diablofire)\n",
            "I'll shoot both of you.\tEk gaan beide van julle skiet.\tCC-BY 2.0 (France) Attribution: tatoeba.org #2546654 (CK) & #2784211 (Diablofire)\n",
            "I'm mad at both of you.\tEk is kwaad vir beide van julle.\tCC-BY 2.0 (France) Attribution: tatoeba.org #2546572 (CK) & #2784212 (Diablofire)\n",
            "I'm thinking about you.\tEk dink aan U.\tCC-BY 2.0 (France) Attribution: tatoeba.org #257110 (CK) & #5237606 (siener)\n",
            "It doesn't look so bad.\tDit lyk nie so sleg nie.\tCC-BY 2.0 (France) Attribution: tatoeba.org #2591016 (CK) & #2783879 (Diablofire)\n",
            "May I bring my friends?\tKan ek my vriende bring?\tCC-BY 2.0 (France) Attribution: tatoeba.org #4869842 (zvzuibqx) & #3328108 (Diablofire)\n",
            "My brother is an idiot.\tMy broer is 'n idioot.\tCC-BY 2.0 (France) Attribution: tatoeba.org #401444 (FeuDRenais) & #661714 (winterstream)\n",
            "Tom went back upstairs.\tTom is terug op die trappe op.\tCC-BY 2.0 (France) Attribution: tatoeba.org #2546323 (CK) & #2784213 (Diablofire)\n",
            "We won't be doing that.\tOns gaan nie dit doen nie.\tCC-BY 2.0 (France) Attribution: tatoeba.org #2546289 (CK) & #2784214 (Diablofire)\n",
            "Where can I buy stamps?\tWaar kan ek seëls koop?\tCC-BY 2.0 (France) Attribution: tatoeba.org #272460 (CK) & #2364363 (siener)\n",
            "Where can I get stamps?\tWaar kan ek seëls koop?\tCC-BY 2.0 (France) Attribution: tatoeba.org #38161 (CK) & #2364363 (siener)\n",
            "Which book do you want?\tWatse boek wil jy hê?\tCC-BY 2.0 (France) Attribution: tatoeba.org #3634281 (CK) & #2788468 (Diablofire)\n",
            "You're not bad at this.\tJy is nie sleg met dit nie.\tCC-BY 2.0 (France) Attribution: tatoeba.org #2546238 (CK) & #2784215 (Diablofire)\n",
            "Can you wait right here?\tKan jy reg hier wag?\tCC-BY 2.0 (France) Attribution: tatoeba.org #3328172 (CK) & #3328202 (Diablofire)\n",
            "Did you read everything?\tHet jy alles gelees?\tCC-BY 2.0 (France) Attribution: tatoeba.org #4869847 (zvzuibqx) & #3328054 (Diablofire)\n",
            "He sometimes watches TV.\tHy kyk partymal TV.\tCC-BY 2.0 (France) Attribution: tatoeba.org #298391 (CK) & #2783290 (Diablofire)\n",
            "I asked where she lived.\tEk het gevra waar sy gewoon het.\tCC-BY 2.0 (France) Attribution: tatoeba.org #261014 (CK) & #2535548 (winterstream)\n",
            "I can't do it by myself.\tEk kan dit nie aan myself doen nie.\tCC-BY 2.0 (France) Attribution: tatoeba.org #2546221 (CK) & #2784216 (Diablofire)\n",
            "I don't know where I am.\tEk weet nie waar ek is nie.\tCC-BY 2.0 (France) Attribution: tatoeba.org #1393912 (CM) & #3211120 (siener)\n",
            "I hate my mother-in-law.\tEk haat my skoonma.\tCC-BY 2.0 (France) Attribution: tatoeba.org #1060547 (CM) & #5532356 (CJuser01)\n",
            "I only want to help you.\tEk wil alleen jou help.\tCC-BY 2.0 (France) Attribution: tatoeba.org #1956088 (CK) & #7968514 (swart)\n",
            "I was just being polite.\tEk was net beskaaf.\tCC-BY 2.0 (France) Attribution: tatoeba.org #2546162 (CK) & #2784217 (Diablofire)\n",
            "I wouldn't be surprised.\tEk sou nie verbaas wees nie.\tCC-BY 2.0 (France) Attribution: tatoeba.org #2546126 (CK) & #2783940 (Diablofire)\n",
            "I'll be back in an hour.\tEk sal terug wees in 'n uur.\tCC-BY 2.0 (France) Attribution: tatoeba.org #73155 (Eldad) & #2783435 (Diablofire)\n",
            "I'll catch the next bus.\tEk sal die volgende bus vang.\tCC-BY 2.0 (France) Attribution: tatoeba.org #2546093 (CK) & #2783942 (Diablofire)\n",
            "I'm not afraid any more.\tEk is nie meer bang nie.\tCC-BY 2.0 (France) Attribution: tatoeba.org #255800 (CK) & #786667 (siener)\n",
            "I'm not buying anything.\tEk gaan niks koop nie.\tCC-BY 2.0 (France) Attribution: tatoeba.org #2545964 (CK) & #2783943 (Diablofire)\n",
            "I'm still not buying it.\tEk gaan nogsteeds niks koop nie.\tCC-BY 2.0 (France) Attribution: tatoeba.org #2545905 (CK) & #2783945 (Diablofire)\n",
            "It happened by accident.\tDit het toevallig gebeur.\tCC-BY 2.0 (France) Attribution: tatoeba.org #42504 (CK) & #5649878 (CJuser01)\n",
            "Make it a little larger.\tMaak dit 'n bietjie groter.\tCC-BY 2.0 (France) Attribution: tatoeba.org #1222879 (CK) & #2364367 (siener)\n",
            "My wife is a vegetarian.\tMy vrou is 'n vegetariër.\tCC-BY 2.0 (France) Attribution: tatoeba.org #644856 (CK) & #644850 (siener)\n",
            "The box is almost empty.\tDie boks is amper leeg.\tCC-BY 2.0 (France) Attribution: tatoeba.org #44463 (CK) & #5777450 (CJuser01)\n",
            "The dog is in the house.\tDie hond is in die huis.\tCC-BY 2.0 (France) Attribution: tatoeba.org #882704 (CK) & #976066 (siener)\n",
            "They are making a salad.\tHulle maak 'n slaai.\tCC-BY 2.0 (France) Attribution: tatoeba.org #681419 (Source_VOA) & #5930713 (CJuser01)\n",
            "Tom couldn't believe it.\tTom kon dit nie glo nie.\tCC-BY 2.0 (France) Attribution: tatoeba.org #2545821 (CK) & #2783948 (Diablofire)\n",
            "Tom looks very relieved.\tTom lyk baie verlig.\tCC-BY 2.0 (France) Attribution: tatoeba.org #2645326 (CK) & #2783301 (Diablofire)\n",
            "Tom wants to be admired.\tTom wil bewonderd word.\tCC-BY 2.0 (France) Attribution: tatoeba.org #1525947 (Spamster) & #2783394 (Diablofire)\n",
            "We are both from Boston.\tOns is beide van Boston.\tCC-BY 2.0 (France) Attribution: tatoeba.org #3527186 (adamtrousers) & #3442815 (siener)\n",
            "What Tom said was a lie.\tWat Tom gesê het is 'n leuen.\tCC-BY 2.0 (France) Attribution: tatoeba.org #1140807 (CK) & #2783398 (Diablofire)\n",
            "Who are you working for?\tVir wie werk jy?\tCC-BY 2.0 (France) Attribution: tatoeba.org #1017396 (CM) & #5507174 (CJuser01)\n",
            "You wouldn't believe it.\tJy sou dit nie glo nie.\tCC-BY 2.0 (France) Attribution: tatoeba.org #2545664 (CK) & #2783951 (Diablofire)\n",
            "You wouldn't believe me.\tJy sou nie my glo nie.\tCC-BY 2.0 (France) Attribution: tatoeba.org #2545663 (CK) & #2783953 (Diablofire)\n",
            "Can I get a coffee to go?\tKan ek 'n koffie vir die pad kry?\tCC-BY 2.0 (France) Attribution: tatoeba.org #3328173 (CK) & #3328201 (Diablofire)\n",
            "Can I help you gentlemen?\tKan ek jou help heer?\tCC-BY 2.0 (France) Attribution: tatoeba.org #3328174 (CK) & #3328199 (Diablofire)\n",
            "Do you know what he said?\tWeet jy wat hy gesê het?\tCC-BY 2.0 (France) Attribution: tatoeba.org #283431 (CK) & #2364223 (siener)\n",
            "Her speech was excellent.\tHaar toespraak was uitmuntend.\tCC-BY 2.0 (France) Attribution: tatoeba.org #308566 (CK) & #384918 (NielDLR)\n",
            "I don't love her anymore.\tEk is nie meer lief vir haar nie.\tCC-BY 2.0 (France) Attribution: tatoeba.org #521281 (FeuDRenais) & #663014 (winterstream)\n",
            "I wouldn't take that bet.\tEk sou nie weddingskap neem nie.\tCC-BY 2.0 (France) Attribution: tatoeba.org #2545525 (CK) & #2783955 (Diablofire)\n",
            "I'll be right behind you.\tEk sal reg agter jou wees.\tCC-BY 2.0 (France) Attribution: tatoeba.org #2545500 (CK) & #2783957 (Diablofire)\n",
            "I'll stay here until ten.\tEk sal hier bly tot tien.\tCC-BY 2.0 (France) Attribution: tatoeba.org #73428 (CK) & #2458888 (siener)\n",
            "I'm just being realistic.\tEk is net besig om realisties te wees.\tCC-BY 2.0 (France) Attribution: tatoeba.org #2545375 (CK) & #2783960 (Diablofire)\n",
            "Let me explain something.\tLaat my iets verduidelik.\tCC-BY 2.0 (France) Attribution: tatoeba.org #2064685 (CK) & #2783401 (Diablofire)\n",
            "Let's stick to the point.\tKom ons hou by die punt.\tCC-BY 2.0 (France) Attribution: tatoeba.org #3327851 (Serafettin) & #3328078 (Diablofire)\n",
            "Let's wait till he comes.\tKom ons wag tot hy kom.\tCC-BY 2.0 (France) Attribution: tatoeba.org #284319 (CK) & #2364285 (siener)\n",
            "My parents are both dead.\tMy ouers is albei dood.\tCC-BY 2.0 (France) Attribution: tatoeba.org #675655 (CK) & #675652 (winterstream)\n",
            "That is such a dumb idea.\tDit is so 'n dom idee.\tCC-BY 2.0 (France) Attribution: tatoeba.org #4870598 (zvzuibqx) & #3437704 (Diablofire)\n",
            "This is such a dumb idea.\tDit is so 'n dom idee.\tCC-BY 2.0 (France) Attribution: tatoeba.org #4870597 (zvzuibqx) & #3437704 (Diablofire)\n",
            "This is very interesting.\tDit is baie interessant.\tCC-BY 2.0 (France) Attribution: tatoeba.org #2436411 (Hybrid) & #2783437 (Diablofire)\n",
            "Tom didn't shoot to kill.\tTom het nie geskied om dood te maak nie.\tCC-BY 2.0 (France) Attribution: tatoeba.org #2279376 (CK) & #7968518 (swart)\n",
            "Tom drives like a maniac.\tTom bestuur soos 'n maniak.\tCC-BY 2.0 (France) Attribution: tatoeba.org #1094209 (CK) & #2364288 (siener)\n",
            "Tom wasn't wearing socks.\tTom het nie sokkies gedra nie.\tCC-BY 2.0 (France) Attribution: tatoeba.org #3331520 (CK) & #3331626 (Diablofire)\n",
            "Tom went back downstairs.\tTom is terug af die trappe af.\tCC-BY 2.0 (France) Attribution: tatoeba.org #2545112 (CK) & #2784084 (Diablofire)\n",
            "Tom won't be cooperative.\tTom sal nie saamwerk nie.\tCC-BY 2.0 (France) Attribution: tatoeba.org #6271757 (CK) & #8873949 (siener)\n",
            "We are under his command.\tOns staan onder sy bevel.\tCC-BY 2.0 (France) Attribution: tatoeba.org #22739 (CK) & #5509989 (CJuser01)\n",
            "We've got too many rules.\tOns het te veel reëls.\tCC-BY 2.0 (France) Attribution: tatoeba.org #3359701 (CK) & #7968570 (swart)\n",
            "Where did you learn this?\tWaar het jy dit geleer?\tCC-BY 2.0 (France) Attribution: tatoeba.org #1723847 (Spamster) & #2458893 (siener)\n",
            "You sound like my mother.\tJy klink soos my ma.\tCC-BY 2.0 (France) Attribution: tatoeba.org #3356350 (CK) & #4332764 (Superdooperhero)\n",
            "You won't be on your own.\tJy sal nie op jou eie wees nie.\tCC-BY 2.0 (France) Attribution: tatoeba.org #2545051 (CK) & #2784086 (Diablofire)\n",
            "You've already forgotten.\tJy het reeds vergeet.\tCC-BY 2.0 (France) Attribution: tatoeba.org #2591793 (CK) & #2783829 (Diablofire)\n",
            "All's well that ends well.\tAlles goed eindig goed.\tCC-BY 2.0 (France) Attribution: tatoeba.org #266387 (CK) & #1409680 (Diablofire)\n",
            "Be polite to your parents.\tWees hoflik teenoor jou ouers.\tCC-BY 2.0 (France) Attribution: tatoeba.org #325674 (CK) & #1636294 (bccwil)\n",
            "Can you help me with this?\tKan jy my met hierdie help?\tCC-BY 2.0 (France) Attribution: tatoeba.org #3087519 (Hybrid) & #3445747 (siener)\n",
            "Did you finish your paper?\tHet jy jou vreastel voltooi?\tCC-BY 2.0 (France) Attribution: tatoeba.org #4013863 (CK) & #6456229 (Dewald)\n",
            "Don't forget your promise.\tMoet nie jou belofte vergeet nie.\tCC-BY 2.0 (France) Attribution: tatoeba.org #2250424 (hayastan) & #5489335 (CJuser01)\n",
            "How many pens do you have?\tHoeveel penne het jy?\tCC-BY 2.0 (France) Attribution: tatoeba.org #370728 (saeb) & #788084 (Diablofire)\n",
            "I arrived here last night.\tEk het laas nag hier aangekom.\tCC-BY 2.0 (France) Attribution: tatoeba.org #257838 (CK) & #387068 (NielDLR)\n",
            "I don't have time for you.\tEk het geen tyd vir julle nie.\tCC-BY 2.0 (France) Attribution: tatoeba.org #713809 (fanty) & #755719 (siener)\n",
            "I'll do what must be done.\tEk sal doen wat gedoen moet word.\tCC-BY 2.0 (France) Attribution: tatoeba.org #2544872 (CK) & #2784087 (Diablofire)\n",
            "I'm finishing my homework.\tEk maak my huiswerk klaar.\tCC-BY 2.0 (France) Attribution: tatoeba.org #253877 (CK) & #2364257 (siener)\n",
            "I'm not being paid enough.\tEk word nie genoeg betaal nie.\tCC-BY 2.0 (France) Attribution: tatoeba.org #2544729 (CK) & #2784088 (Diablofire)\n",
            "I'm standing in the shade.\tEk staan in die skaduwee.\tCC-BY 2.0 (France) Attribution: tatoeba.org #259791 (CK) & #5792219 (CJuser01)\n",
            "It doesn't matter so much.\tDit maak nie soveel saak nie.\tCC-BY 2.0 (France) Attribution: tatoeba.org #2591017 (CK) & #2783877 (Diablofire)\n",
            "It doesn't seem very fair.\tDit blyk nie regverdig nie.\tCC-BY 2.0 (France) Attribution: tatoeba.org #2591018 (CK) & #2783875 (Diablofire)\n",
            "It was just the beginning.\tDit was net die begin.\tCC-BY 2.0 (France) Attribution: tatoeba.org #1598350 (Spamster) & #2364453 (siener)\n",
            "Now you're being paranoid.\tNou is jy paranoïes.\tCC-BY 2.0 (France) Attribution: tatoeba.org #4013862 (CK) & #6456228 (Dewald)\n",
            "Please answer my question.\tAsseblief beantwoord my vraag.\tCC-BY 2.0 (France) Attribution: tatoeba.org #251059 (CK) & #2779394 (Diablofire)\n",
            "Tell Tom I won't be there.\tSê vir Tom ek gaan nie daar wees nie.\tCC-BY 2.0 (France) Attribution: tatoeba.org #2544628 (CK) & #2784090 (Diablofire)\n",
            "There are no broken bones.\tDaar is geen gebreekte bene.\tCC-BY 2.0 (France) Attribution: tatoeba.org #3435465 (AlanF_US) & #3436065 (siener)\n",
            "This machine doesn't work.\tHierdie masjien werk nie.\tCC-BY 2.0 (France) Attribution: tatoeba.org #9150100 (CK) & #5845327 (CJuser01)\n",
            "Tom isn't going to change.\tTom sal nie verander nie.\tCC-BY 2.0 (France) Attribution: tatoeba.org #3001266 (CK) & #6456535 (Dewald)\n",
            "Tom often emails me jokes.\tTom stuur vir my dikwels e-pos met grappe.\tCC-BY 2.0 (France) Attribution: tatoeba.org #7490385 (CK) & #7490565 (winterstream)\n",
            "Tom threw oil on the fire.\tTom het olie op die vuur gegooi.\tCC-BY 2.0 (France) Attribution: tatoeba.org #9150000 (Joules) & #5922769 (CJuser01)\n",
            "Tom was not wearing socks.\tTom het nie sokkies gedra nie.\tCC-BY 2.0 (France) Attribution: tatoeba.org #4869838 (zvzuibqx) & #3331626 (Diablofire)\n",
            "Tom was wearing a sweater.\tTom het 'n trui gedra.\tCC-BY 2.0 (France) Attribution: tatoeba.org #2644283 (CK) & #2783354 (Diablofire)\n",
            "We aren't very hungry yet.\tOns is nog nie baie honger nie.\tCC-BY 2.0 (France) Attribution: tatoeba.org #262849 (CK) & #2364286 (siener)\n",
            "What country are you from?\tVan watse land is jy?\tCC-BY 2.0 (France) Attribution: tatoeba.org #679856 (ulyssemc1) & #384996 (NielDLR)\n",
            "What floor do you live on?\tOp watter verdieping woon jy?\tCC-BY 2.0 (France) Attribution: tatoeba.org #1169896 (etoile) & #5681211 (CJuser01)\n",
            "All is well that ends well.\tAlles goed eindig goed.\tCC-BY 2.0 (France) Attribution: tatoeba.org #266388 (CK) & #1409680 (Diablofire)\n",
            "Can you make a copy for me?\tKan jy vir my 'n kopie maak?\tCC-BY 2.0 (France) Attribution: tatoeba.org #4869846 (zvzuibqx) & #3328090 (Diablofire)\n",
            "I don't have much time now.\tEk het nou nie veel tyd nie.\tCC-BY 2.0 (France) Attribution: tatoeba.org #241793 (CK) & #718840 (siener)\n",
            "I went by there last night.\tEk het daar gegaan gisteraand.\tCC-BY 2.0 (France) Attribution: tatoeba.org #2544361 (CK) & #2784091 (Diablofire)\n",
            "I will promise you nothing.\tEk beloof jou niks nie.\tCC-BY 2.0 (France) Attribution: tatoeba.org #5201747 (CarpeLanam) & #5489336 (CJuser01)\n",
            "I won't be a party to this.\tEk gaan nie 'n party hieraan wees nie.\tCC-BY 2.0 (France) Attribution: tatoeba.org #2544343 (CK) & #2784092 (Diablofire)\n",
            "I won't be coming with you.\tEk gaan nie saam met jou kom nie.\tCC-BY 2.0 (France) Attribution: tatoeba.org #2544342 (CK) & #2784093 (Diablofire)\n",
            "I won't be here next month.\tEk gaan nie hier volgende maand wees nie.\tCC-BY 2.0 (France) Attribution: tatoeba.org #2544341 (CK) & #2784095 (Diablofire)\n",
            "I won't be home for a week.\tEk gaan nie tuis vir 'n week wees nie.\tCC-BY 2.0 (France) Attribution: tatoeba.org #2544340 (CK) & #2784096 (Diablofire)\n",
            "I won't be ready for weeks.\tEk gaan nie reg wees vir weke nie.\tCC-BY 2.0 (France) Attribution: tatoeba.org #2544339 (CK) & #2783962 (Diablofire)\n",
            "I'd better get back inside.\tEk moet seker terug ingaan.\tCC-BY 2.0 (France) Attribution: tatoeba.org #2544321 (CK) & #2786677 (Diablofire)\n",
            "I'd like one stamp, please.\tEk versoek een stempel, asseblief.\tCC-BY 2.0 (France) Attribution: tatoeba.org #2012706 (CK) & #2783264 (Diablofire)\n",
            "I'd like to ask a question.\tEk sal graag 'n vraag wil vra\tCC-BY 2.0 (France) Attribution: tatoeba.org #73219 (CK) & #384979 (NielDLR)\n",
            "I'll get right back to you.\tEk sal nou terugkom by jou.\tCC-BY 2.0 (France) Attribution: tatoeba.org #2544281 (CK) & #2786678 (Diablofire)\n",
            "I'm happy to see you again.\tEk is bly om jou weer te sien.\tCC-BY 2.0 (France) Attribution: tatoeba.org #255644 (CK) & #5891914 (CJuser01)\n",
            "I'm not being unreasonable.\tEk is nie besig om onredelik te wees nie.\tCC-BY 2.0 (France) Attribution: tatoeba.org #2544144 (CK) & #2786681 (Diablofire)\n",
            "I'm sorry about being late.\tEk is jammer oor laat wees.\tCC-BY 2.0 (France) Attribution: tatoeba.org #2544099 (CK) & #2786682 (Diablofire)\n",
            "Is that law still in force?\tIs daardie wet nogsteeds in werking getree?\tCC-BY 2.0 (France) Attribution: tatoeba.org #2649832 (sharptoothed) & #2783295 (Diablofire)\n",
            "No one tells me what to do.\tNiemand vertel my wat om the doen nie.\tCC-BY 2.0 (France) Attribution: tatoeba.org #6455815 (Hybrid) & #6456100 (Dewald)\n",
            "She has a house by the sea.\tSy het 'n huis by die see.\tCC-BY 2.0 (France) Attribution: tatoeba.org #751157 (CK) & #751160 (siener)\n",
            "Smoking affects our health.\tRook benadeel ons gesondheid.\tCC-BY 2.0 (France) Attribution: tatoeba.org #19943 (CK) & #2364328 (siener)\n",
            "The snow has begun melting.\tDie sneeu het begin smelt.\tCC-BY 2.0 (France) Attribution: tatoeba.org #1196592 (CK) & #5649888 (CJuser01)\n",
            "There is a map on the wall.\tDaar is 'n kaart op die muur.\tCC-BY 2.0 (France) Attribution: tatoeba.org #320259 (CK) & #385213 (NielDLR)\n",
            "This factory produces toys.\tDie fabriek produseer speelgoed.\tCC-BY 2.0 (France) Attribution: tatoeba.org #7330619 (AlanF_US) & #7331431 (Diablofire)\n",
            "This song is easy to learn.\tDie liedjie is maklik om te leer.\tCC-BY 2.0 (France) Attribution: tatoeba.org #60108 (CK) & #2783349 (Diablofire)\n",
            "Tom and Mary are very busy.\tTom en Mary is baie besig.\tCC-BY 2.0 (France) Attribution: tatoeba.org #2644040 (CK) & #2783420 (Diablofire)\n",
            "Tom had better not do that.\tTom beter dit nie gedoen het nie.\tCC-BY 2.0 (France) Attribution: tatoeba.org #4665935 (CK) & #6456225 (Dewald)\n",
            "Tom has a big day tomorrow.\tTom het 'n groot dag môre.\tCC-BY 2.0 (France) Attribution: tatoeba.org #4665934 (CK) & #6456224 (Dewald)\n",
            "Tom has a good imagination.\tTom het 'n goeie verbeelding.\tCC-BY 2.0 (France) Attribution: tatoeba.org #4665933 (CK) & #6456222 (Dewald)\n",
            "Tom has a lot on his plate.\tTom het baie op sy bord.\tCC-BY 2.0 (France) Attribution: tatoeba.org #4665932 (CK) & #6456221 (Dewald)\n",
            "Tom has a very good memory.\tTom het 'n uitstekende geheue.\tCC-BY 2.0 (France) Attribution: tatoeba.org #4665931 (CK) & #6456219 (Dewald)\n",
            "Tom has a well-trained dog.\tTom het 'n goed geleerde hond.\tCC-BY 2.0 (France) Attribution: tatoeba.org #4665930 (CK) & #6456218 (Dewald)\n",
            "Tom has accepted our offer.\tTom het ons aanbod aanvaar.\tCC-BY 2.0 (France) Attribution: tatoeba.org #4665929 (CK) & #6456216 (Dewald)\n",
            "Tom has already thanked me.\tTom het my reeds gedank.\tCC-BY 2.0 (France) Attribution: tatoeba.org #4665928 (CK) & #6456215 (Dewald)\n",
            "Tom has been a good friend.\tTom was 'n goeie vriend.\tCC-BY 2.0 (France) Attribution: tatoeba.org #4665927 (CK) & #6456213 (Dewald)\n",
            "Tom has been quite helpful.\tTom was heel behulpsaam.\tCC-BY 2.0 (France) Attribution: tatoeba.org #4665925 (CK) & #6456211 (Dewald)\n",
            "Tom has been very tolerant.\tTom was baie verdraagsaam.\tCC-BY 2.0 (France) Attribution: tatoeba.org #4665924 (CK) & #6456209 (Dewald)\n",
            "Tom has nowhere left to go.\tTom het nêrens meer om te gaan.\tCC-BY 2.0 (France) Attribution: tatoeba.org #4665923 (CK) & #6456208 (Dewald)\n",
            "Tom has to be more careful.\tTom moet meer versigtig wees.\tCC-BY 2.0 (France) Attribution: tatoeba.org #4665922 (CK) & #6456204 (Dewald)\n",
            "Tom wants to become famous.\tTom wil beroemd word.\tCC-BY 2.0 (France) Attribution: tatoeba.org #3331486 (CK) & #3331631 (Diablofire)\n",
            "Tom won't be afraid of you.\tTom sal nie bang vir jou wees nie.\tCC-BY 2.0 (France) Attribution: tatoeba.org #2543943 (CK) & #2786683 (Diablofire)\n",
            "Tom wouldn't bother to lie.\tTom sou nie pla om te jok nie.\tCC-BY 2.0 (France) Attribution: tatoeba.org #2543938 (CK) & #2786684 (Diablofire)\n",
            "We won't be able to escape.\tOns sal nie kan ontsnap nie.\tCC-BY 2.0 (France) Attribution: tatoeba.org #2543915 (CK) & #2786685 (Diablofire)\n",
            "Which country are you from?\tVan watse land is jy?\tCC-BY 2.0 (France) Attribution: tatoeba.org #329612 (fcbond) & #384996 (NielDLR)\n",
            "Which floor do you live on?\tOp watter verdieping woon jy?\tCC-BY 2.0 (France) Attribution: tatoeba.org #2079351 (_undertoad) & #5681211 (CJuser01)\n",
            "Why don't you wear a dress?\tHoekom dra jy nie 'n rok nie?\tCC-BY 2.0 (France) Attribution: tatoeba.org #2591656 (CK) & #2783838 (Diablofire)\n",
            "Will you help me with this?\tSal jy my met hierdie help?\tCC-BY 2.0 (France) Attribution: tatoeba.org #250342 (CK) & #3445746 (siener)\n",
            "You ain't seen nothing yet.\tJy het nog niks gesien nie.\tCC-BY 2.0 (France) Attribution: tatoeba.org #1041694 (CK) & #2783381 (Diablofire)\n",
            "You won't be safe anywhere.\tJy gaan nêrens veilig wees nie.\tCC-BY 2.0 (France) Attribution: tatoeba.org #2543882 (CK) & #2786687 (Diablofire)\n",
            "You've told me that before.\tJy het dit al voorheen vir my gesê.\tCC-BY 2.0 (France) Attribution: tatoeba.org #2543859 (CK) & #2786688 (Diablofire)\n",
            "Don't be late for the train.\tMoenie laat wees vir die trein nie.\tCC-BY 2.0 (France) Attribution: tatoeba.org #326168 (CK) & #4049660 (siener)\n",
            "He never breaks his promise.\tHy breek nooit sy beloftes nie.\tCC-BY 2.0 (France) Attribution: tatoeba.org #288119 (CK) & #5489338 (CJuser01)\n",
            "I am happy to see you again.\tEk is bly om jou weer te sien.\tCC-BY 2.0 (France) Attribution: tatoeba.org #1130981 (cntrational) & #5891914 (CJuser01)\n",
            "I thought you'd be thrilled.\tEk dog jy sou opgewonde wees.\tCC-BY 2.0 (France) Attribution: tatoeba.org #1961817 (CK) & #2783376 (Diablofire)\n",
            "I won't be able to help you.\tEk sal nie jou kan help nie.\tCC-BY 2.0 (France) Attribution: tatoeba.org #2543731 (CK) & #2786689 (Diablofire)\n",
            "I won't be back for a while.\tEk gaan nie terug vir 'n ruk wees nie.\tCC-BY 2.0 (France) Attribution: tatoeba.org #2543730 (CK) & #2784097 (Diablofire)\n",
            "I wonder what became of Tom.\tEk wonder wat het van Tom geword.\tCC-BY 2.0 (France) Attribution: tatoeba.org #2543722 (CK) & #2784100 (Diablofire)\n",
            "I'd better get back to work.\tI moet beter terug kom by die werk.\tCC-BY 2.0 (France) Attribution: tatoeba.org #2543712 (CK) & #2784101 (Diablofire)\n",
            "I'm glad it makes you happy.\tEk is bly dat dit jou gelukkig maak.\tCC-BY 2.0 (France) Attribution: tatoeba.org #2590992 (CK) & #2783853 (Diablofire)\n",
            "I'm not being paid for this.\tEk word nie betaal vir dit nie.\tCC-BY 2.0 (France) Attribution: tatoeba.org #2543545 (CK) & #2784102 (Diablofire)\n",
            "Is that what Tom would want?\tIs dit wat Tom sou wou hê?\tCC-BY 2.0 (France) Attribution: tatoeba.org #2599571 (CK) & #2783827 (Diablofire)\n",
            "Our best friend is a doctor.\tOns beste vriend is 'n dokter.\tCC-BY 2.0 (France) Attribution: tatoeba.org #847133 (Source_Benedict_1921) & #2783403 (Diablofire)\n",
            "Our main office is in Osaka.\tOns hoofkantoor is in Osaka.\tCC-BY 2.0 (France) Attribution: tatoeba.org #279959 (NielDLR) & #387072 (NielDLR)\n",
            "She brought his lunch today.\tSy't vandag sy middagete gebring.\tCC-BY 2.0 (France) Attribution: tatoeba.org #313720 (CK) & #2458891 (siener)\n",
            "The food was great in Italy.\tDie kos was lekker in Italië.\tCC-BY 2.0 (France) Attribution: tatoeba.org #416555 (Scott) & #7968682 (swart)\n",
            "Tom and Mary sang in unison.\tTom en Marie het eensamig gesing.\tCC-BY 2.0 (France) Attribution: tatoeba.org #2643655 (CK) & #2783374 (Diablofire)\n",
            "Tom didn't know what to say.\tTom het nie geweet wat om te sê nie.\tCC-BY 2.0 (France) Attribution: tatoeba.org #1026345 (CK) & #2779365 (Diablofire)\n",
            "Tom plans to go there alone.\tTom is van plan om alleen soontoe te gaan.\tCC-BY 2.0 (France) Attribution: tatoeba.org #5545388 (CK) & #5545546 (CJuser01)\n",
            "Tom won't be here that long.\tTom gaan nie hier so lank wag nie.\tCC-BY 2.0 (France) Attribution: tatoeba.org #2543319 (CK) & #2784103 (Diablofire)\n",
            "Tom wouldn't be that stupid.\tTom sou nie so dom wees nie.\tCC-BY 2.0 (France) Attribution: tatoeba.org #2543314 (CK) & #2784105 (Diablofire)\n",
            "We won't be here after 2:30.\tOns gaan nie hier wees na 2:30 nie.\tCC-BY 2.0 (France) Attribution: tatoeba.org #2543299 (CK) & #2784106 (Diablofire)\n",
            "We've arrived a little late.\tOns het 'n bietjie laat aangekom.\tCC-BY 2.0 (France) Attribution: tatoeba.org #2591298 (CK) & #2783845 (Diablofire)\n",
            "When does Tom eat breakfast?\tWanneer eet Tom ontbyt?\tCC-BY 2.0 (France) Attribution: tatoeba.org #2543285 (CK) & #2784107 (Diablofire)\n",
            "Why do you think he said so?\tHoekom dink jy het hy so gesê?\tCC-BY 2.0 (France) Attribution: tatoeba.org #36342 (CK) & #2364272 (siener)\n",
            "You're a long way from home.\tJy is ver van die huis af.\tCC-BY 2.0 (France) Attribution: tatoeba.org #3229413 (Hybrid) & #5671424 (CJuser01)\n",
            "He went to America last week.\tHy het laasweek na Amerika toe gegaan.\tCC-BY 2.0 (France) Attribution: tatoeba.org #300630 (CK) & #3437708 (Diablofire)\n",
            "His story moved her to tears.\tSy storie het haar tot trane gedryf.\tCC-BY 2.0 (France) Attribution: tatoeba.org #287914 (CM) & #2364466 (siener)\n",
            "How much do you make a month?\tHoeveel het jy gemaak 'n maand?\tCC-BY 2.0 (France) Attribution: tatoeba.org #2763434 (sharptoothed) & #2783262 (Diablofire)\n",
            "I am familiar with his music.\tSy musiek is bekend.\tCC-BY 2.0 (France) Attribution: tatoeba.org #260553 (CK) & #2364387 (siener)\n",
            "I thought you might back out.\tEk dog jou sou uittree.\tCC-BY 2.0 (France) Attribution: tatoeba.org #2543220 (CK) & #2784108 (Diablofire)\n",
            "I told Tom I'd be right back.\tEk het Tom gesê ek sal nou-nou wees.\tCC-BY 2.0 (France) Attribution: tatoeba.org #2543212 (CK) & #2784109 (Diablofire)\n",
            "I was just blowing off steam.\tEk het net 'n bietjie stoom afgeblaas.\tCC-BY 2.0 (France) Attribution: tatoeba.org #2543186 (CK) & #2784218 (Diablofire)\n",
            "I'll have to get back to you.\tEk sal terug na jou toe moet kom.\tCC-BY 2.0 (France) Attribution: tatoeba.org #2543090 (CK) & #2784219 (Diablofire)\n",
            "I'll see you when I get back.\tEk sal jou sien wanneer ek terugkom.\tCC-BY 2.0 (France) Attribution: tatoeba.org #2543069 (CK) & #2784220 (Diablofire)\n",
            "I'm afraid I've got bad news.\tEk het ongelukkig slegte nuus.\tCC-BY 2.0 (France) Attribution: tatoeba.org #2543051 (CK) & #2784221 (Diablofire)\n",
            "I'm falling in love with you.\tEk is om verlief te val op jou.\tCC-BY 2.0 (France) Attribution: tatoeba.org #953822 (CK) & #2783428 (Diablofire)\n",
            "Is your coworker an American?\tIs jou kollega 'n Amerikaner?\tCC-BY 2.0 (France) Attribution: tatoeba.org #1098148 (cntrational) & #5907249 (CJuser01)\n",
            "My grandmother speaks slowly.\tMy ouma praat stadig.\tCC-BY 2.0 (France) Attribution: tatoeba.org #273903 (CK) & #5897623 (CJuser01)\n",
            "She behaved quite abominably.\tSy het haar heel afskuwelik gedra.\tCC-BY 2.0 (France) Attribution: tatoeba.org #741535 (darinmex) & #5772803 (CJuser01)\n",
            "The conditions are favorable.\tDie omstandighede is gunstig.\tCC-BY 2.0 (France) Attribution: tatoeba.org #7431229 (MarijnKp) & #5897635 (CJuser01)\n",
            "They'll do whatever they can.\tHulle sal alles doen wat hulle kan.\tCC-BY 2.0 (France) Attribution: tatoeba.org #4890453 (CK) & #7968576 (swart)\n",
            "Tom ate breakfast by himself.\tTom het ontbyt geëet op sy eie.\tCC-BY 2.0 (France) Attribution: tatoeba.org #2542838 (CK) & #2784223 (Diablofire)\n",
            "Tom dumped me over the phone.\tTom het my oor die foon gelos.\tCC-BY 2.0 (France) Attribution: tatoeba.org #5819561 (CK) & #7968657 (swart)\n",
            "Tom dyed his hair dark brown.\tTom het sy hare donker bruin gekleur.\tCC-BY 2.0 (France) Attribution: tatoeba.org #1025864 (CK) & #2364377 (siener)\n",
            "Tom must be Mary's boyfriend.\tTom is seker Marie se kêrel.\tCC-BY 2.0 (France) Attribution: tatoeba.org #1028290 (CK) & #2364381 (siener)\n",
            "Tom said his hands were cold.\tTom het gesê sy hande was koud.\tCC-BY 2.0 (France) Attribution: tatoeba.org #3331517 (CK) & #3331627 (Diablofire)\n",
            "Tom turned the light back on.\tTom het die lig terug aangesit.\tCC-BY 2.0 (France) Attribution: tatoeba.org #2542777 (CK) & #2784224 (Diablofire)\n",
            "Tom unscrewed the light bulb.\tTom het die ligbulb ontskroef.\tCC-BY 2.0 (France) Attribution: tatoeba.org #2542776 (CK) & #2784227 (Diablofire)\n",
            "Tom won't be at school today.\tTom gaan nie vandag by die skool wees nie.\tCC-BY 2.0 (France) Attribution: tatoeba.org #2542755 (CK) & #2784228 (Diablofire)\n",
            "Tom won't be back for a week.\tTom gaan nie vir 'n week terug wees nie.\tCC-BY 2.0 (France) Attribution: tatoeba.org #2542754 (CK) & #2784229 (Diablofire)\n",
            "Tom won't be here next month.\tTom gaan nie volgende maand hier wees nie.\tCC-BY 2.0 (France) Attribution: tatoeba.org #2542753 (CK) & #2784230 (Diablofire)\n",
            "What does this sentence mean?\tWat beteken hierdie sin?\tCC-BY 2.0 (France) Attribution: tatoeba.org #1064475 (CK) & #5934332 (CJuser01)\n",
            "Where does Tom eat breakfast?\tWaar eet Tom ontbyt?\tCC-BY 2.0 (France) Attribution: tatoeba.org #2542720 (CK) & #2784113 (Diablofire)\n",
            "You aggravated the situation.\tJy het die situasie vereger.\tCC-BY 2.0 (France) Attribution: tatoeba.org #3327910 (_undertoad) & #3328073 (Diablofire)\n",
            "You won't be able to help us.\tJy sal nie ons kan help nie.\tCC-BY 2.0 (France) Attribution: tatoeba.org #2542710 (CK) & #2784114 (Diablofire)\n",
            "A dog was running after a cat.\t'n Hond het agter die kat aan gehardloop.\tCC-BY 2.0 (France) Attribution: tatoeba.org #239123 (CK) & #384913 (NielDLR)\n",
            "Could you turn off the lights?\tKan jy die ligte afskakel?\tCC-BY 2.0 (France) Attribution: tatoeba.org #279151 (CK) & #2364248 (siener)\n",
            "I dare you to cross this line.\tEk waag jou om oor die lyn te trap.\tCC-BY 2.0 (France) Attribution: tatoeba.org #6454858 (OsoHombre) & #6456136 (Dewald)\n",
            "I thought you might be hungry.\tEk dog jy mag honger wees.\tCC-BY 2.0 (France) Attribution: tatoeba.org #2542658 (CK) & #2784115 (Diablofire)\n",
            "I wish you'd said that before.\tEk wens jy het dit voorheen gesê.\tCC-BY 2.0 (France) Attribution: tatoeba.org #2542578 (CK) & #2784116 (Diablofire)\n",
            "I wouldn't be so sure of that.\tEk sou nie so seker daarvan wees nie.\tCC-BY 2.0 (France) Attribution: tatoeba.org #2542555 (CK) & #2784117 (Diablofire)\n",
            "I'll let you get back to work.\tEk sal jou laat terug gaan aan die werk.\tCC-BY 2.0 (France) Attribution: tatoeba.org #2542502 (CK) & #2784119 (Diablofire)\n",
            "I'll tell you when I get back.\tEk sal jou sê wanneer ek terug is.\tCC-BY 2.0 (France) Attribution: tatoeba.org #2542484 (CK) & #2784120 (Diablofire)\n",
            "I'm a lot bigger than you are.\tEk is baie groter as wat jy is.\tCC-BY 2.0 (France) Attribution: tatoeba.org #2542481 (CK) & #2784122 (Diablofire)\n",
            "My conscience is bothering me.\tMy gewete pla my.\tCC-BY 2.0 (France) Attribution: tatoeba.org #4870562 (zvzuibqx) & #4608771 (siener)\n",
            "Please tell me what you think.\tSê my asseblief wat jy dink.\tCC-BY 2.0 (France) Attribution: tatoeba.org #70669 (CK) & #2364436 (siener)\n",
            "She was formerly a bank clerk.\tSy was voorheen 'n klerk by die bank.\tCC-BY 2.0 (France) Attribution: tatoeba.org #312360 (CK) & #2364290 (siener)\n",
            "The test was rather difficult.\tDie toets was nogal moeilik.\tCC-BY 2.0 (France) Attribution: tatoeba.org #2364214 (siener) & #2364213 (siener)\n",
            "The wind is blowing very hard.\tDie wind waai sterk.\tCC-BY 2.0 (France) Attribution: tatoeba.org #319653 (jakov) & #5443485 (CJuser01)\n",
            "They won't bother you anymore.\tHulle sal jou nie meer steur nie.\tCC-BY 2.0 (France) Attribution: tatoeba.org #2542283 (CK) & #2784124 (Diablofire)\n",
            "Tom just got back from Boston.\tTom is sopas terug vanaf Boston.\tCC-BY 2.0 (France) Attribution: tatoeba.org #2542229 (CK) & #2784126 (Diablofire)\n",
            "Tom screwed in the light bulb.\tTom het die ligbulb ingeskroef\tCC-BY 2.0 (France) Attribution: tatoeba.org #2542209 (CK) & #2788227 (Diablofire)\n",
            "Tom won't be happy to see you.\tTom gaan nie gelukkig wees om jou te sien nie.\tCC-BY 2.0 (France) Attribution: tatoeba.org #2542170 (CK) & #2788228 (Diablofire)\n",
            "We both have the same problem.\tOns het beide dieselfde probleem.\tCC-BY 2.0 (France) Attribution: tatoeba.org #2713072 (CK) & #3456951 (siener)\n",
            "You don't know my dad, do you?\tJy ken nie my pa nie, doen jy?\tCC-BY 2.0 (France) Attribution: tatoeba.org #1886399 (CK) & #2783378 (Diablofire)\n",
            "He has atrocious table manners.\tHy het gruwelike tafel maniere.\tCC-BY 2.0 (France) Attribution: tatoeba.org #285380 (Dejo) & #2364247 (siener)\n",
            "I don't expect you to remember.\tEk verwag nie van jou om dit te onthou nie.\tCC-BY 2.0 (France) Attribution: tatoeba.org #2589034 (CK) & #2783898 (Diablofire)\n",
            "I just went to check something.\tEk wil net iets kyk.\tCC-BY 2.0 (France) Attribution: tatoeba.org #2590886 (CK) & #2783890 (Diablofire)\n",
            "I thought you might be curious.\tEk dog jy sou nuuskierig wees.\tCC-BY 2.0 (France) Attribution: tatoeba.org #2542075 (CK) & #2788229 (Diablofire)\n",
            "I wouldn't let that bother you.\tEk sou nie dit jou laat pla nie.\tCC-BY 2.0 (France) Attribution: tatoeba.org #2541991 (CK) & #2788231 (Diablofire)\n",
            "I'd better get back to my desk.\tEk beter terug kom by my lessenaar.\tCC-BY 2.0 (France) Attribution: tatoeba.org #2541988 (CK) & #2795236 (Diablofire)\n",
            "I'll be here when you get back.\tEk sal hier wees wanneer jy terugkom.\tCC-BY 2.0 (France) Attribution: tatoeba.org #2541977 (CK) & #2788232 (Diablofire)\n",
            "I'll get back to you about Tom.\tEk sal terugkom na jou oor Tom.\tCC-BY 2.0 (France) Attribution: tatoeba.org #2541960 (CK) & #2788237 (Diablofire)\n",
            "I'm just an innocent bystander.\tEk is net 'n onskuldige omstander.\tCC-BY 2.0 (France) Attribution: tatoeba.org #2541867 (CK) & #2788233 (Diablofire)\n",
            "I've been waiting half an hour.\tI wag al vir 'n halfuur.\tCC-BY 2.0 (France) Attribution: tatoeba.org #2359327 (CK) & #2783286 (Diablofire)\n",
            "The food didn't taste that bad.\tDie kos het nie so sleg geproe nie.\tCC-BY 2.0 (France) Attribution: tatoeba.org #2541745 (CK) & #2788235 (Diablofire)\n",
            "This is what I bought in Spain.\tDis wat ek gekoop het in Spanje.\tCC-BY 2.0 (France) Attribution: tatoeba.org #55692 (CK) & #384921 (NielDLR)\n",
            "This, however, is not possible.\tDit is egter nie moontlik nie.\tCC-BY 2.0 (France) Attribution: tatoeba.org #3003774 (CM) & #5524847 (CJuser01)\n",
            "Tom won't be showing up at all.\tTom gaan glad nie verskyn nie.\tCC-BY 2.0 (France) Attribution: tatoeba.org #2541640 (CK) & #2788236 (Diablofire)\n",
            "We'll have a problem, won't we?\tOns gaan 'n probleem hê, gaan ons nie?\tCC-BY 2.0 (France) Attribution: tatoeba.org #2663289 (CK) & #2783285 (Diablofire)\n",
            "Will you pay attention, please?\tSal jy asseblief aandag gee?\tCC-BY 2.0 (France) Attribution: tatoeba.org #3185875 (CK) & #6007378 (CJuser01)\n",
            "You don't have to be sarcastic.\tJy hoef nie sarkasties te wees nie.\tCC-BY 2.0 (France) Attribution: tatoeba.org #1895773 (CK) & #2535520 (winterstream)\n",
            "You won't believe what I found.\tJy sal nie glo wat ek gevind het nie.\tCC-BY 2.0 (France) Attribution: tatoeba.org #2541603 (CK) & #2784128 (Diablofire)\n",
            "You won't believe what I heard.\tJy sal nie glo wat ek gehoor het nie.\tCC-BY 2.0 (France) Attribution: tatoeba.org #2541602 (CK) & #2784129 (Diablofire)\n",
            "Correct the following sentences.\tKorrigeer die volgende sinne.\tCC-BY 2.0 (France) Attribution: tatoeba.org #264326 (CK) & #5934333 (CJuser01)\n",
            "Do you prefer red or white wine?\tVerkies jy rooi of wit wyn?\tCC-BY 2.0 (France) Attribution: tatoeba.org #1213448 (alec) & #2364235 (siener)\n",
            "I need you to help me with this.\tEk het jou nodig om my met hierdie te help.\tCC-BY 2.0 (France) Attribution: tatoeba.org #3330110 (CK) & #3445748 (siener)\n",
            "I put it back where it belonged.\tEk het dit terug gesit waar dit behoort.\tCC-BY 2.0 (France) Attribution: tatoeba.org #2541559 (CK) & #2784130 (Diablofire)\n",
            "I think I might be out of a job.\tEk dink ek mag dalk uit 'n werk wees.\tCC-BY 2.0 (France) Attribution: tatoeba.org #2541557 (CK) & #2784132 (Diablofire)\n",
            "I thought something was strange.\tEk het gedink iets was vreemd.\tCC-BY 2.0 (France) Attribution: tatoeba.org #3435469 (AlanF_US) & #3436064 (siener)\n",
            "I was offended by the policeman.\tEk het aanstoot geneem van die polisieman.\tCC-BY 2.0 (France) Attribution: tatoeba.org #884446 (CM) & #2364228 (siener)\n",
            "I won't be coming back with Tom.\tEk gaan nie saam met Tom terugkom nie.\tCC-BY 2.0 (France) Attribution: tatoeba.org #2541490 (CK) & #2784134 (Diablofire)\n",
            "I wonder what Tom meant by that.\tEk wonder wat Tom daarmee bedoel het.\tCC-BY 2.0 (France) Attribution: tatoeba.org #2541485 (CK) & #2784135 (Diablofire)\n",
            "I'll tell you when you get back.\tEk sal jou sê wanneer jy terug kom.\tCC-BY 2.0 (France) Attribution: tatoeba.org #2541428 (CK) & #2784137 (Diablofire)\n",
            "I'm going to be on the next bus.\tEk gaan op die volgende bus wees.\tCC-BY 2.0 (France) Attribution: tatoeba.org #2541394 (CK) & #2784140 (Diablofire)\n",
            "I'm not sure I want to see this.\tEk is nie seker of ek dit wil sien nie.\tCC-BY 2.0 (France) Attribution: tatoeba.org #2591003 (CK) & #2783851 (Diablofire)\n",
            "I'm not telling you to go alone.\tEk sê nie vir jou dat ek alleen wil gaan nie.\tCC-BY 2.0 (France) Attribution: tatoeba.org #2591002 (CK) & #2783852 (Diablofire)\n",
            "The moon moves around the earth.\tDie maan draai om die aarde.\tCC-BY 2.0 (France) Attribution: tatoeba.org #238834 (jakov) & #2535541 (winterstream)\n",
            "This book doesn't belong to Tom.\tHierdie boek behoort nie aan Tom nie.\tCC-BY 2.0 (France) Attribution: tatoeba.org #2541268 (CK) & #2784141 (Diablofire)\n",
            "Tom is worried about being sued.\tTom is bekommerd om gedagvaar te kan word.\tCC-BY 2.0 (France) Attribution: tatoeba.org #2541228 (CK) & #2784143 (Diablofire)\n",
            "Tom turned on the right blinker.\tTom het sy regter flikkerlig aangesit.\tCC-BY 2.0 (France) Attribution: tatoeba.org #2541195 (CK) & #2786694 (Diablofire)\n",
            "Tom was a bit freaked out by it.\tTom was 'n bietjie gegril deur dit.\tCC-BY 2.0 (France) Attribution: tatoeba.org #2541192 (CK) & #2786701 (Diablofire)\n",
            "We can drive as fast as we want.\tOns kan so vinnig ry as wat ons wil.\tCC-BY 2.0 (France) Attribution: tatoeba.org #5545387 (CK) & #5545542 (CJuser01)\n",
            "Would you move your car, please?\tKan jy jou kar beweeg asseblief?\tCC-BY 2.0 (France) Attribution: tatoeba.org #265576 (CK) & #385198 (NielDLR)\n",
            "You won't be needing that again.\tJy gaan nie dit weer nodig hê nie.\tCC-BY 2.0 (France) Attribution: tatoeba.org #2541149 (CK) & #2786703 (Diablofire)\n",
            "You won't be the only one there.\tJy gaan nie die enigste een daar wees nie.\tCC-BY 2.0 (France) Attribution: tatoeba.org #2541148 (CK) & #2786704 (Diablofire)\n",
            "You won't believe what I've got.\tJy sal nie glo wat ek het nie.\tCC-BY 2.0 (France) Attribution: tatoeba.org #2541147 (CK) & #2786705 (Diablofire)\n",
            "You've aggravated the situation.\tJy't die situasie vererger.\tCC-BY 2.0 (France) Attribution: tatoeba.org #3327911 (_undertoad) & #3328069 (Diablofire)\n",
            "He lives in a village near Osaka.\tHy bly in 'n dorpie naby Osaka.\tCC-BY 2.0 (France) Attribution: tatoeba.org #2002408 (jackchak) & #384919 (NielDLR)\n",
            "He was wearing a threadbare suit.\tHy het 'n afgeleefde pak aangehad.\tCC-BY 2.0 (France) Attribution: tatoeba.org #329650 (fcbond) & #1622508 (bccwil)\n",
            "I hope I'm not bothering anybody.\tEk hoop nie ek pla iemand nie.\tCC-BY 2.0 (France) Attribution: tatoeba.org #2541117 (CK) & #2786708 (Diablofire)\n",
            "I thought you might be mad at me.\tEk dog jy sou kwaad vir my wees.\tCC-BY 2.0 (France) Attribution: tatoeba.org #2541099 (CK) & #2786710 (Diablofire)\n",
            "I was up all night brainstorming.\tEk was die hele nag besig om te dinkskrum.\tCC-BY 2.0 (France) Attribution: tatoeba.org #2541064 (CK) & #2786715 (Diablofire)\n",
            "I won't be able to sleep tonight.\tEk sal nie vanaand kan slaap nie.\tCC-BY 2.0 (France) Attribution: tatoeba.org #2541042 (CK) & #2786717 (Diablofire)\n",
            "I wouldn't be so sure about that.\tEk sou nie so seker daarvan wees nie.\tCC-BY 2.0 (France) Attribution: tatoeba.org #42697 (CK) & #2784117 (Diablofire)\n",
            "I'll get back to you in a moment.\tEk sal terugkom na jou in 'n ruk.\tCC-BY 2.0 (France) Attribution: tatoeba.org #2541005 (CK) & #2786718 (Diablofire)\n",
            "I'm going to help you get better.\tEk gaan jou help beter te word.\tCC-BY 2.0 (France) Attribution: tatoeba.org #2540953 (CK) & #2784145 (Diablofire)\n",
            "I'm sure I won't be of much help.\tEk is seker ek gaan nie van veel hulp wees nie.\tCC-BY 2.0 (France) Attribution: tatoeba.org #2540881 (CK) & #2784146 (Diablofire)\n",
            "It is expensive to live in Japan.\tDit is duur om in Japan te woon.\tCC-BY 2.0 (France) Attribution: tatoeba.org #281261 (CK) & #2535564 (winterstream)\n",
            "These trees were planted by them.\tDie bome was deur hulle geplant.\tCC-BY 2.0 (France) Attribution: tatoeba.org #55065 (CK) & #387064 (NielDLR)\n",
            "This is a souvenir from Hokkaido.\tDit is 'n aandenking uit Hokkaido.\tCC-BY 2.0 (France) Attribution: tatoeba.org #55401 (CK) & #3441453 (siener)\n",
            "Tom is an extremely charming guy.\tTom is 'n verskriklike sjarmante ou.\tCC-BY 2.0 (France) Attribution: tatoeba.org #5690333 (CK) & #5691027 (siener)\n",
            "Tom seldom writes to his parents.\tTom skryf selde aan sy ouers.\tCC-BY 2.0 (France) Attribution: tatoeba.org #4013860 (CK) & #6456226 (Dewald)\n",
            "Tom watched television yesterday.\tTom het gister televisie gekyk.\tCC-BY 2.0 (France) Attribution: tatoeba.org #855362 (piksea) & #2779414 (Diablofire)\n",
            "Tom won't be helping us tomorrow.\tTom gaan nie ons môre help nie.\tCC-BY 2.0 (France) Attribution: tatoeba.org #2540767 (CK) & #2784148 (Diablofire)\n",
            "Tom won't be staying much longer.\tTom gaan nie meer baie langer bly nie.\tCC-BY 2.0 (France) Attribution: tatoeba.org #2540766 (CK) & #2784149 (Diablofire)\n",
            "We sat in front of the fireplace.\tOns het voor die kaggel gesit.\tCC-BY 2.0 (France) Attribution: tatoeba.org #8048428 (Syonide) & #5777465 (CJuser01)\n",
            "We spent the day in the open air.\tOns het die dag in die buitelug spandeer.\tCC-BY 2.0 (France) Attribution: tatoeba.org #44588 (CK) & #2364365 (siener)\n",
            "We won't be able to eat all this.\tOns gaan nie alles kan opeet nie.\tCC-BY 2.0 (France) Attribution: tatoeba.org #2540748 (CK) & #2784150 (Diablofire)\n",
            "Where does your grandmother live?\tWaar woon jou ouma?\tCC-BY 2.0 (France) Attribution: tatoeba.org #687620 (lukaszpp) & #5897624 (CJuser01)\n",
            "Which sport do you like the most?\tVan watse sport hou jy die meeste van?\tCC-BY 2.0 (France) Attribution: tatoeba.org #4870633 (zvzuibqx) & #2788467 (Diablofire)\n",
            "He invested 500,000 yen in stocks.\tHy het 500,000 ten in aandele belê.\tCC-BY 2.0 (France) Attribution: tatoeba.org #294889 (CK) & #2783291 (Diablofire)\n",
            "I don't think your plan will work.\tEk dink nie jou plan sal werk nie.\tCC-BY 2.0 (France) Attribution: tatoeba.org #1096473 (CK) & #2364232 (siener)\n",
            "I never thought I'd be doing this.\tEk het nooit kon dink dat ek dit sou doen nie.\tCC-BY 2.0 (France) Attribution: tatoeba.org #5690334 (CK) & #5691026 (siener)\n",
            "I thought it might be complicated.\tEk dog sit mag dalk ingewikkeld wees.\tCC-BY 2.0 (France) Attribution: tatoeba.org #2540688 (CK) & #2784152 (Diablofire)\n",
            "I thought it might be significant.\tEk dog dit mag dalk beduidend wees.\tCC-BY 2.0 (France) Attribution: tatoeba.org #2540687 (CK) & #2784153 (Diablofire)\n",
            "I was waiting for you to get back.\tEk het vir jou gewag om terug te kom.\tCC-BY 2.0 (France) Attribution: tatoeba.org #2540634 (CK) & #2784154 (Diablofire)\n",
            "I won't be sorry to see Tom leave.\tEk gaan nie jammer wees om Tom te sien verlaat nie.\tCC-BY 2.0 (France) Attribution: tatoeba.org #2540616 (CK) & #2784156 (Diablofire)\n",
            "I wouldn't be too sure about that.\tEk sou nie te seker wees daaroor nie.\tCC-BY 2.0 (France) Attribution: tatoeba.org #2540611 (CK) & #2784157 (Diablofire)\n",
            "I'll put it back where it belongs.\tEk sal dit terug sit waar dit behoort.\tCC-BY 2.0 (France) Attribution: tatoeba.org #2540562 (CK) & #2795239 (Diablofire)\n",
            "I'm glad you finally made it back.\tEk is bly jy het uiteindelik terug gekom.\tCC-BY 2.0 (France) Attribution: tatoeba.org #2540538 (CK) & #2795241 (Diablofire)\n",
            "I'm really flattered to hear that.\tEk is regtig gevlei om dit te hoor.\tCC-BY 2.0 (France) Attribution: tatoeba.org #393838 (blay_paul) & #2535496 (winterstream)\n",
            "I'm sorry I can't be of more help.\tEk is jammer dat nie van meer hulp kan wees nie.\tCC-BY 2.0 (France) Attribution: tatoeba.org #2540477 (CK) & #2795248 (Diablofire)\n",
            "She left her son alone in the car.\tSy het haar seun alleen in die kar gelos.\tCC-BY 2.0 (France) Attribution: tatoeba.org #315602 (CK) & #385195 (NielDLR)\n",
            "Tom died with a knife in his back.\tTom het gesterf met 'n mes in sy rug.\tCC-BY 2.0 (France) Attribution: tatoeba.org #1026238 (CK) & #2783306 (Diablofire)\n",
            "Tom was bullied when he was a kid.\tTom was geboelie toe hy 'n kind was.\tCC-BY 2.0 (France) Attribution: tatoeba.org #3331482 (CK) & #3331632 (Diablofire)\n",
            "Tom won't be back for a few hours.\tTom gaan nie terug wees vir 'n paar ure nie.\tCC-BY 2.0 (France) Attribution: tatoeba.org #2540357 (CK) & #2795249 (Diablofire)\n",
            "Tom won't be here for a long time.\tTom gaan nie hier wees vir 'n lang tyd nie.\tCC-BY 2.0 (France) Attribution: tatoeba.org #2540356 (CK) & #2795252 (Diablofire)\n",
            "We can't afford any more mistakes.\tOns kan nie nog foute bekostig nie.\tCC-BY 2.0 (France) Attribution: tatoeba.org #1950650 (CK) & #2364449 (siener)\n",
            "What time and where could we meet?\tWanneer en waar kan ons ontmoet?\tCC-BY 2.0 (France) Attribution: tatoeba.org #24585 (CK) & #1730368 (bccwil)\n",
            "You won't be needing this anymore.\tJy gaan dit nie meer nodig hê nie.\tCC-BY 2.0 (France) Attribution: tatoeba.org #2540321 (CK) & #2795253 (Diablofire)\n",
            "You won't be needing this anymore.\tJy gaan dit nie meer benodig nie.\tCC-BY 2.0 (France) Attribution: tatoeba.org #2540321 (CK) & #2795255 (Diablofire)\n",
            "A thousand meters is one kilometer.\t'n Duisend meter is een kilometer.\tCC-BY 2.0 (France) Attribution: tatoeba.org #8048425 (Syonide) & #5832404 (CJuser01)\n",
            "Aren't you being a little paranoid?\tIs jy nie 'n bietjie skrikkerig nie?\tCC-BY 2.0 (France) Attribution: tatoeba.org #4013861 (CK) & #6456227 (Dewald)\n",
            "I can't think of his name just now.\tEk kan nie nou aan sy naam dink nie.\tCC-BY 2.0 (France) Attribution: tatoeba.org #257619 (CK) & #384916 (NielDLR)\n",
            "I don't like living in the country.\tEk hou nie daarvan om in die platteland te woon nie.\tCC-BY 2.0 (France) Attribution: tatoeba.org #259610 (CK) & #2535552 (winterstream)\n",
            "I thought this was just between us.\tEk dog dit was net tussen ons gewees.\tCC-BY 2.0 (France) Attribution: tatoeba.org #2540276 (CK) & #2795257 (Diablofire)\n",
            "I thought we could make it by 2:30.\tEk dog ons kon dit maak teen 2:30.\tCC-BY 2.0 (France) Attribution: tatoeba.org #2540271 (CK) & #2795258 (Diablofire)\n",
            "I was born and brought up in Tokyo.\tEk is in Tokio gebore en getoë.\tCC-BY 2.0 (France) Attribution: tatoeba.org #259660 (CK) & #2535532 (winterstream)\n",
            "I wish I could be more spontaneous.\tEk wens ek was meer spontaan.\tCC-BY 2.0 (France) Attribution: tatoeba.org #953722 (CK) & #2364276 (siener)\n",
            "I won't be bullied into doing that.\tEk gaan nie in dit geboelie word om dit te doen nie.\tCC-BY 2.0 (France) Attribution: tatoeba.org #2540200 (CK) & #2795260 (Diablofire)\n",
            "I'm assuming it won't be a problem.\tEk neem aan dit gaan nie 'n probleem wees nie.\tCC-BY 2.0 (France) Attribution: tatoeba.org #2540148 (CK) & #2788239 (Diablofire)\n",
            "I'm glad we put all that behind us.\tEk is bly dat ons dit agter ons gesit het.\tCC-BY 2.0 (France) Attribution: tatoeba.org #2540140 (CK) & #2786719 (Diablofire)\n",
            "I'm surprised Tom isn't busy today.\tEk is verbaas dat Tom nie vandag besig is nie.\tCC-BY 2.0 (France) Attribution: tatoeba.org #2540053 (CK) & #2786721 (Diablofire)\n",
            "I'm trying to figure out something.\tEk probeer om iets uittevind.\tCC-BY 2.0 (France) Attribution: tatoeba.org #2591008 (CK) & #2783850 (Diablofire)\n",
            "Maybe I shouldn't be so suspicious.\tDalk moet ek nie so verdag wees nie.\tCC-BY 2.0 (France) Attribution: tatoeba.org #2540028 (CK) & #2786722 (Diablofire)\n",
            "Our interests conflict with theirs.\tOns belangstelle is in konflik met hulle s'n.\tCC-BY 2.0 (France) Attribution: tatoeba.org #23328 (Swift) & #2783385 (Diablofire)\n",
            "Saturday is when my father is free.\tSaterdag is my pa oop.\tCC-BY 2.0 (France) Attribution: tatoeba.org #279543 (CK) & #387059 (NielDLR)\n",
            "That's not how I want things to be.\tDis nie hoe ek wil hê dinge moet wees nie.\tCC-BY 2.0 (France) Attribution: tatoeba.org #2016940 (CK) & #2364250 (siener)\n",
            "That's the way the cookie crumbles.\tDis die lewe.\tCC-BY 2.0 (France) Attribution: tatoeba.org #270528 (CM) & #775550 (siener)\n",
            "The cook is sitting in the kitchen.\tDie kok sit in die kombuis.\tCC-BY 2.0 (France) Attribution: tatoeba.org #1200107 (CM) & #2783269 (Diablofire)\n",
            "The food didn't taste all that bad.\tDie kos het glad nie so sleg geproe nie.\tCC-BY 2.0 (France) Attribution: tatoeba.org #2540025 (CK) & #2786723 (Diablofire)\n",
            "The walls were painted light brown.\tDie mure was 'n ligte bruin geverf.\tCC-BY 2.0 (France) Attribution: tatoeba.org #2540023 (CK) & #2786724 (Diablofire)\n",
            "There's too much salt in this soup.\tIn hierdie sop is te veel sout.\tCC-BY 2.0 (France) Attribution: tatoeba.org #60998 (CK) & #3435818 (siener)\n",
            "This house is too small to live in.\tHierdie huis is te klein om in te bly.\tCC-BY 2.0 (France) Attribution: tatoeba.org #1432795 (CK) & #3436063 (siener)\n",
            "Tom told us not to do that anymore.\tTom het gesê dat ons moes ophou daarmee.\tCC-BY 2.0 (France) Attribution: tatoeba.org #2104110 (CK) & #2535562 (winterstream)\n",
            "Tom won't be bothering you anymore.\tTom gaan jou nie meer steur nie.\tCC-BY 2.0 (France) Attribution: tatoeba.org #2539945 (CK) & #2786726 (Diablofire)\n",
            "Tom won't be making a speech today.\tTom gaan nie vandag 'n toespraak voer nie.\tCC-BY 2.0 (France) Attribution: tatoeba.org #2539944 (CK) & #2786727 (Diablofire)\n",
            "Tom won't be that easy to convince.\tTom gaan nie so maklik oorreed word nie.\tCC-BY 2.0 (France) Attribution: tatoeba.org #2539943 (CK) & #2786729 (Diablofire)\n",
            "Tom won't be that hard to convince.\tTom gaan nie so moeilik oorreed word nie.\tCC-BY 2.0 (France) Attribution: tatoeba.org #2539942 (CK) & #2786730 (Diablofire)\n",
            "Tom wouldn't be interested in Mary.\tTom sal nie belangstel in Mary nie.\tCC-BY 2.0 (France) Attribution: tatoeba.org #2539936 (CK) & #2786733 (Diablofire)\n",
            "Was he still here when you arrived?\tWas hy nog hier wanneer julle aangekom het?\tCC-BY 2.0 (France) Attribution: tatoeba.org #71338 (CK) & #7968697 (swart)\n",
            "We don't want you to hurt yourself.\tOns wil nie hê jy moet jouself seer maak nie.\tCC-BY 2.0 (France) Attribution: tatoeba.org #2016974 (CK) & #2364464 (siener)\n",
            "Why don't you all just take a seat?\tHoekom neem almal nie 'n sitplek nie?\tCC-BY 2.0 (France) Attribution: tatoeba.org #2210564 (CK) & #2783305 (Diablofire)\n",
            "You can use my car, if you want to.\tJy kan my kar gebruik as jy wil.\tCC-BY 2.0 (France) Attribution: tatoeba.org #245483 (CK) & #387057 (NielDLR)\n",
            "You don't seem too happy to see me.\tJy lyk nie te gelukkig om vir my te sien nie.\tCC-BY 2.0 (France) Attribution: tatoeba.org #2591706 (CK) & #2783832 (Diablofire)\n",
            "You won't be able to see Tom today.\tJy sal nie Tom vandag kan sien nie.\tCC-BY 2.0 (France) Attribution: tatoeba.org #2539920 (CK) & #2788240 (Diablofire)\n",
            "A hundred years is called a century.\t'n Honderd jaar word 'n eeu genoem.\tCC-BY 2.0 (France) Attribution: tatoeba.org #318299 (CK) & #7968512 (swart)\n",
            "He lives in a small town near Osaka.\tHy bly in 'n dorpie naby Osaka.\tCC-BY 2.0 (France) Attribution: tatoeba.org #301288 (Swift) & #384919 (NielDLR)\n",
            "I don't want to hear about it again.\tEk wil nie weer daarvan hoor nie.\tCC-BY 2.0 (France) Attribution: tatoeba.org #2018776 (CK) & #2535503 (winterstream)\n",
            "I don't want to talk about my child.\tEk wil nie oor my kind praat nie.\tCC-BY 2.0 (France) Attribution: tatoeba.org #2590857 (CK) & #2783895 (Diablofire)\n",
            "I had hoped we might become friends.\tEk het gehoop ons kan vriende word.\tCC-BY 2.0 (France) Attribution: tatoeba.org #1970162 (CK) & #2364266 (siener)\n",
            "I like the slow rhythm of that song.\tEk hou van die stadige ritme van daai liedjie.\tCC-BY 2.0 (France) Attribution: tatoeba.org #68528 (CM) & #385194 (NielDLR)\n",
            "I thought it might be a possibility.\tEk dog dit mag dalk 'n moontlikheid wees.\tCC-BY 2.0 (France) Attribution: tatoeba.org #2539896 (CK) & #2788241 (Diablofire)\n",
            "I was wondering when you'd get back.\tEk het gewonder wanneer jy gaan terugkom.\tCC-BY 2.0 (France) Attribution: tatoeba.org #2539852 (CK) & #2788242 (Diablofire)\n",
            "I was your mother's first boyfriend.\tEk was jou ma se eerste kerêl.\tCC-BY 2.0 (France) Attribution: tatoeba.org #2539850 (CK) & #2788243 (Diablofire)\n",
            "I'll be right back with your drinks.\tEk is nou terug met julle drankies.\tCC-BY 2.0 (France) Attribution: tatoeba.org #2539812 (CK) & #2788244 (Diablofire)\n",
            "She is able to answer your question.\tSy kan jou vraag beantwoord.\tCC-BY 2.0 (France) Attribution: tatoeba.org #489422 (adjusting) & #2458887 (siener)\n",
            "The only one who isn't going is you.\tDie engiste een wat nie gaan nie is jy.\tCC-BY 2.0 (France) Attribution: tatoeba.org #3168157 (CK) & #7968567 (swart)\n",
            "The smallest continent is Australia.\tDie kleinste kontinent is Australië.\tCC-BY 2.0 (France) Attribution: tatoeba.org #2438413 (freecudi) & #2783432 (Diablofire)\n",
            "You won't believe who came by today.\tJy gaan nie glo wie vandag verby gekom het nie.\tCC-BY 2.0 (France) Attribution: tatoeba.org #2539609 (CK) & #2788245 (Diablofire)\n",
            "Does anyone have any other questions?\tHet enigiemand enige ander vrae?\tCC-BY 2.0 (France) Attribution: tatoeba.org #2092569 (CK) & #2205112 (winterstream)\n",
            "Don't believe anything Tom tells you.\tMoet niks glo van Tom vir jou vertel nie.\tCC-BY 2.0 (France) Attribution: tatoeba.org #2539596 (CK) & #2788246 (Diablofire)\n",
            "I think you might be able to help me.\tEk dink jy mag dalk vir my kan help.\tCC-BY 2.0 (France) Attribution: tatoeba.org #2539586 (CK) & #2788248 (Diablofire)\n",
            "I won't be able to visit for a while.\tEk gaan nie kan kom kuier vir 'n ruk nie.\tCC-BY 2.0 (France) Attribution: tatoeba.org #2539549 (CK) & #2788249 (Diablofire)\n",
            "I wouldn't be too sure if I were you.\tEk sou nie so seker wees as ek jy was nie.\tCC-BY 2.0 (France) Attribution: tatoeba.org #2539538 (CK) & #2811154 (Diablofire)\n",
            "I'll be right back with refreshments.\tEk is nou-nou terug met verversings.\tCC-BY 2.0 (France) Attribution: tatoeba.org #2539521 (CK) & #2786736 (Diablofire)\n",
            "I'll make it back in time for supper.\tEk sal dit terug maak vir aandete.\tCC-BY 2.0 (France) Attribution: tatoeba.org #2539509 (CK) & #2786738 (Diablofire)\n",
            "I'm afraid Tom won't be able to come.\tOngelukkig sal Tom nie kan kom nie.\tCC-BY 2.0 (France) Attribution: tatoeba.org #2539493 (CK) & #2786739 (Diablofire)\n",
            "I'm going to have to get back to you.\tEk sal moet terugkom na jou.\tCC-BY 2.0 (France) Attribution: tatoeba.org #2539479 (CK) & #2786741 (Diablofire)\n",
            "I've told you that before, haven't I?\tEk het dit voorheen vir jou gesê, het ek nie?\tCC-BY 2.0 (France) Attribution: tatoeba.org #2539406 (CK) & #2786743 (Diablofire)\n",
            "Let the chocolate melt in your mouth.\tLaat die sjokolade in die mond smelt.\tCC-BY 2.0 (France) Attribution: tatoeba.org #9022931 (mccarras) & #5649889 (CJuser01)\n",
            "There was a bus schedule on the wall.\tDaar was 'n bus skedule op die muur.\tCC-BY 2.0 (France) Attribution: tatoeba.org #2641351 (CK) & #2779407 (Diablofire)\n",
            "There was a bus schedule on the wall.\tOp die muur was daar 'n bus skedule.\tCC-BY 2.0 (France) Attribution: tatoeba.org #2641351 (CK) & #2779409 (Diablofire)\n",
            "There's so much I want to say to you.\tDaar is soveel wat ek vir jou wil sê.\tCC-BY 2.0 (France) Attribution: tatoeba.org #2591270 (CK) & #2783859 (Diablofire)\n",
            "This is something I need to do alone.\tDit is iets wat ek alleen moet doen.\tCC-BY 2.0 (France) Attribution: tatoeba.org #2591291 (CK) & #2783848 (Diablofire)\n",
            "Tom went back inside to get his coat.\tTom het terug binnegegaan om sy jas te kry.\tCC-BY 2.0 (France) Attribution: tatoeba.org #2539329 (CK) & #2786745 (Diablofire)\n",
            "We will have little snow this winter.\tOns gaan hierdie winter min sneeu hê.\tCC-BY 2.0 (France) Attribution: tatoeba.org #1231736 (CM) & #2364224 (siener)\n",
            "He bought eggs and milk from a farmer.\tHy het eiers en melk by 'n boer gekoop.\tCC-BY 2.0 (France) Attribution: tatoeba.org #288916 (CK) & #3435648 (siener)\n",
            "I always wondered what that smell was.\tEk het altyd gewonder wat daardie reuk was.\tCC-BY 2.0 (France) Attribution: tatoeba.org #2291863 (CK) & #2364353 (siener)\n",
            "I didn't think this would be possible.\tEk het nie gedink dat hierdie moontlik sou wees nie.\tCC-BY 2.0 (France) Attribution: tatoeba.org #3821429 (CK) & #7968543 (swart)\n",
            "I don't have much interest in cooking.\tEk stel nie vreeslik belang in kook nie.\tCC-BY 2.0 (France) Attribution: tatoeba.org #262231 (CK) & #2364263 (siener)\n",
            "I thought Tom might be your boyfriend.\tEk dog Tom was dalk jou kêrel.\tCC-BY 2.0 (France) Attribution: tatoeba.org #2539290 (CK) & #2786747 (Diablofire)\n",
            "I'll get back to you as soon as I can.\tEk sal so gou as moontlik terugkom na jou.\tCC-BY 2.0 (France) Attribution: tatoeba.org #2539234 (CK) & #2786750 (Diablofire)\n",
            "I'll put my passport back in the safe.\tEk sal my paspoort terug in die kluis sit.\tCC-BY 2.0 (France) Attribution: tatoeba.org #2539222 (CK) & #2786751 (Diablofire)\n",
            "Is there anything you want to tell us?\tIs daar enigiets wat jy vir ons wil vertel?\tCC-BY 2.0 (France) Attribution: tatoeba.org #2591013 (CK) & #2783884 (Diablofire)\n",
            "My mother put clean sheets on the bed.\tMy ma het skoon lakens op my bed gesit.\tCC-BY 2.0 (France) Attribution: tatoeba.org #320679 (CK) & #387063 (NielDLR)\n",
            "My older sister plays the guitar well.\tMy ouer suster speel goed kitaar.\tCC-BY 2.0 (France) Attribution: tatoeba.org #245570 (CK) & #387066 (NielDLR)\n",
            "Ping pong is also called table tennis.\tPing pong word ook tafeltennis genoem.\tCC-BY 2.0 (France) Attribution: tatoeba.org #1422362 (CK) & #3451776 (siener)\n",
            "Thank you for your beautiful postcard.\tDankie vir jou pragtige poskaart.\tCC-BY 2.0 (France) Attribution: tatoeba.org #535375 (Espi) & #2364370 (siener)\n",
            "Tom sat by the window, reading a book.\tTom sit by venster besig om 'n boek te lees.\tCC-BY 2.0 (France) Attribution: tatoeba.org #2539088 (CK) & #2786753 (Diablofire)\n",
            "Tom won't be able to keep up with you.\tTom sal nie met jou kan byhou nie.\tCC-BY 2.0 (France) Attribution: tatoeba.org #2539069 (CK) & #2811155 (Diablofire)\n",
            "What was the last concert you went to?\tWat was die laaste konsert waarntoe jy gegaan het?\tCC-BY 2.0 (France) Attribution: tatoeba.org #1424959 (CM) & #2783287 (Diablofire)\n",
            "What's your favorite leisure activity?\tWat is jou gunsteling ontspanningsaktiwiteit?\tCC-BY 2.0 (France) Attribution: tatoeba.org #906805 (CK) & #2783283 (Diablofire)\n",
            "Are you sure you don't want to do that?\tIs jy seker jy wil nie daai doen nie?\tCC-BY 2.0 (France) Attribution: tatoeba.org #2588794 (CK) & #2783909 (Diablofire)\n",
            "Could I talk to you alone for a second?\tKan ek met jou praat vir 'n sekonde?\tCC-BY 2.0 (France) Attribution: tatoeba.org #2588806 (CK) & #2783906 (Diablofire)\n",
            "Crossing the river was a piece of cake.\tOm oor die revier te gaan was gans te maklik.\tCC-BY 2.0 (France) Attribution: tatoeba.org #6454860 (OsoHombre) & #6456141 (Dewald)\n",
            "He died as he was returning to England.\tHy het gesterf gedurende sy terugkeer na Engeland.\tCC-BY 2.0 (France) Attribution: tatoeba.org #803148 (Source_VOA) & #2535554 (winterstream)\n",
            "If you don't like it then you can quit.\tAs jy nie daarvan hou nie kan jy opgee.\tCC-BY 2.0 (France) Attribution: tatoeba.org #697372 (Eldad) & #2783353 (Diablofire)\n",
            "The two towns are separated by a river.\tDie twee dorpe is geskei deur 'n rivier.\tCC-BY 2.0 (France) Attribution: tatoeba.org #280839 (CK) & #2364383 (siener)\n",
            "There are a lot of fires in the winter.\tDaar is baie vure in die winter.\tCC-BY 2.0 (France) Attribution: tatoeba.org #899007 (CK) & #2364227 (siener)\n",
            "These are cakes that she baked herself.\tHierdie is koeke wat sy self gebak het.\tCC-BY 2.0 (France) Attribution: tatoeba.org #391890 (CK) & #2364468 (siener)\n",
            "Tom wouldn't be interested in this job.\tTom sal nie belangstel in hierdie werk nie.\tCC-BY 2.0 (France) Attribution: tatoeba.org #2538817 (CK) & #2788251 (Diablofire)\n",
            "I might be able to come and pick you up.\tEk kan dalk jou kom optel.\tCC-BY 2.0 (France) Attribution: tatoeba.org #2538783 (CK) & #2786755 (Diablofire)\n",
            "I want to know what's going on out here.\tEk wil weet daar buite aan gaan.\tCC-BY 2.0 (France) Attribution: tatoeba.org #2590912 (CK) & #2783889 (Diablofire)\n",
            "I want you to know we can stop worrying.\tEk wil hê jy moet weet dat ons kan ophou bekommerd wees.\tCC-BY 2.0 (France) Attribution: tatoeba.org #2590919 (CK) & #2783856 (Diablofire)\n",
            "I won't be more than two or three hours.\tEk sal nie langer as twee of drie ure neem nie.\tCC-BY 2.0 (France) Attribution: tatoeba.org #2538753 (CK) & #2786756 (Diablofire)\n",
            "I'd like to mail this package to Canada.\tEk sal graag hierdie pakkie na Kanada toe wil pos.\tCC-BY 2.0 (France) Attribution: tatoeba.org #58461 (CK) & #384980 (NielDLR)\n",
            "Tom couldn't believe what was happening.\tTom kon nie glo wat aan die gang is nie.\tCC-BY 2.0 (France) Attribution: tatoeba.org #2538653 (CK) & #2786759 (Diablofire)\n",
            "Tom drinks more than anyone else I know.\tTom drink meer as enigiemand wat ek ken.\tCC-BY 2.0 (France) Attribution: tatoeba.org #1094214 (CK) & #2364268 (siener)\n",
            "Tom won't be getting any help from Mary.\tTom gaan nie meer hulp deur Mary verkry nie.\tCC-BY 2.0 (France) Attribution: tatoeba.org #2538615 (CK) & #2786760 (Diablofire)\n",
            "We must separate politics from religion.\tOns moet politiek van geloof skei.\tCC-BY 2.0 (France) Attribution: tatoeba.org #248939 (CK) & #3441408 (siener)\n",
            "You won't be able to do that without me.\tJy sal nie dit kan doen sonder my nie.\tCC-BY 2.0 (France) Attribution: tatoeba.org #2538598 (CK) & #2786762 (Diablofire)\n",
            "A green banana is not ripe enough to eat.\t'n Groen piesang is nie ryp genoeg om te eet nie.\tCC-BY 2.0 (France) Attribution: tatoeba.org #271983 (BraveSentry) & #3435572 (siener)\n",
            "Apples are usually green, yellow, or red.\tAppels is gewoonlik groen, geel of rooi.\tCC-BY 2.0 (France) Attribution: tatoeba.org #2976130 (patgfisher) & #2783490 (Diablofire)\n",
            "I wish we didn't have to do this anymore.\tEk wens dat ek dit nie meer hoef te doen nie.\tCC-BY 2.0 (France) Attribution: tatoeba.org #953750 (CK) & #2783421 (Diablofire)\n",
            "I won't be ready to do that until Monday.\tEk gaan nie gereed wees om dit te doen tot Maandag nie.\tCC-BY 2.0 (France) Attribution: tatoeba.org #2538565 (CK) & #2786763 (Diablofire)\n",
            "I wonder if you might be able to help me.\tEk wonder of jy my dalk sal kan help.\tCC-BY 2.0 (France) Attribution: tatoeba.org #2538562 (CK) & #2786765 (Diablofire)\n",
            "I've never seen anything quite like this.\tEk het nooit enigiets soos dit gesien nie.\tCC-BY 2.0 (France) Attribution: tatoeba.org #2585749 (CK) & #2784073 (Diablofire)\n",
            "My father has recently returned to Japan.\tMy pa het onlangs na Japan teruggekeer.\tCC-BY 2.0 (France) Attribution: tatoeba.org #1421763 (CK) & #2535569 (winterstream)\n",
            "The girl in the blue coat is my daughter.\tDie meisie in die blou jas is my dogter.\tCC-BY 2.0 (France) Attribution: tatoeba.org #1449345 (CK) & #4340299 (Superdooperhero)\n",
            "Tom won't be making any deliveries today.\tTom gaan nie enige aflewerings vandag maak nie.\tCC-BY 2.0 (France) Attribution: tatoeba.org #2538454 (CK) & #2786767 (Diablofire)\n",
            "Tom wouldn't be here if it wasn't for me.\tTom sou nie hier wees as dit nie vir my was nie.\tCC-BY 2.0 (France) Attribution: tatoeba.org #2538450 (CK) & #2786768 (Diablofire)\n",
            "We won't be able to get out of this cell.\tEk gaan nie uit hierdie sel kan kom nie.\tCC-BY 2.0 (France) Attribution: tatoeba.org #2538446 (CK) & #2795261 (Diablofire)\n",
            "Can you make out what he is trying to say?\tKan jy verstaan wat hy probeer sê?\tCC-BY 2.0 (France) Attribution: tatoeba.org #283427 (CK) & #2364221 (siener)\n",
            "I always wondered whether you'd come back.\tI het altyd gewonder of jy gaan terug kom.\tCC-BY 2.0 (France) Attribution: tatoeba.org #2585721 (CK) & #2784078 (Diablofire)\n",
            "I don't think anyone noticed what you did.\tEk dink nie enigiemend het agtergekom wat jy gedoen het nie.\tCC-BY 2.0 (France) Attribution: tatoeba.org #2585725 (CK) & #2784075 (Diablofire)\n",
            "I thought you might be interested in this.\tEk dog jy sou hierin belangstel.\tCC-BY 2.0 (France) Attribution: tatoeba.org #2538431 (CK) & #2795263 (Diablofire)\n",
            "I want to show you something in my office.\tEk wil vir jou iets wys in my kantoor.\tCC-BY 2.0 (France) Attribution: tatoeba.org #2590916 (CK) & #2783858 (Diablofire)\n",
            "I wouldn't be surprised if Tom left early.\tEk sou nie verbaas wees as Tom vroeg verlaat het nie.\tCC-BY 2.0 (France) Attribution: tatoeba.org #2538412 (CK) & #2795265 (Diablofire)\n",
            "I'm guessing you didn't buy this yourself.\tEk raai jy het dit nie vir jouself gekoop nie.\tCC-BY 2.0 (France) Attribution: tatoeba.org #2538392 (CK) & #2795268 (Diablofire)\n",
            "My uncle has been diagnosed with leukemia.\tMy oom is gediagnoseer met bloedkanker.\tCC-BY 2.0 (France) Attribution: tatoeba.org #674068 (CK) & #674067 (winterstream)\n",
            "Please leave next Saturday afternoon free.\tLos volgende Saterdag middag oop asseblief.\tCC-BY 2.0 (France) Attribution: tatoeba.org #264306 (CK) & #384978 (NielDLR)\n",
            "The waiter filled our glasses to the brim.\tDie kelner het ons glase tot die randjie gevul.\tCC-BY 2.0 (France) Attribution: tatoeba.org #65667 (CM) & #2535557 (winterstream)\n",
            "Tom assumed Mary wouldn't be at the party.\tTom het aangeneem dat Mary nie by die partytjie gaan wees nie.\tCC-BY 2.0 (France) Attribution: tatoeba.org #2538341 (CK) & #2795271 (Diablofire)\n",
            "Tom won't be staying with us next weekend.\tTom gaan nie volgende naweek by ons bly nie.\tCC-BY 2.0 (France) Attribution: tatoeba.org #2538307 (CK) & #2795274 (Diablofire)\n",
            "Tom wondered where he was supposed to sit.\tTom wonder waar hy veronderstel is om te sit.\tCC-BY 2.0 (France) Attribution: tatoeba.org #2640585 (CK) & #2783426 (Diablofire)\n",
            "When he came to, he was lying in the park.\tToe hy bykom, het hy in die park gelê.\tCC-BY 2.0 (France) Attribution: tatoeba.org #283529 (CM) & #2364434 (siener)\n",
            "You can turn on the heater if you're cold.\tJy kan die verwarmer aanskakel indien jy koud kry.\tCC-BY 2.0 (France) Attribution: tatoeba.org #5690498 (CK) & #5691025 (siener)\n",
            "You wouldn't be any happier if I told you.\tJy sou nie minder gelukkig gewees het as ek jou vertel het nie.\tCC-BY 2.0 (France) Attribution: tatoeba.org #2538295 (CK) & #2795279 (Diablofire)\n",
            "Farmers separate good apples from bad ones.\tBoere skei goeie appels van slegtes.\tCC-BY 2.0 (France) Attribution: tatoeba.org #282327 (CM) & #5494463 (CJuser01)\n",
            "His meeting began at five in the afternoon.\tSy vergadering het teen vyf in die middag begin.\tCC-BY 2.0 (France) Attribution: tatoeba.org #22435 (CK) & #2783261 (Diablofire)\n",
            "I didn't want to make a big deal out of it.\tEk wou nie 'n groot saak hiervan maak nie.\tCC-BY 2.0 (France) Attribution: tatoeba.org #2589005 (CK) & #2783901 (Diablofire)\n",
            "I don't want you to think about it anymore.\tEk wil nie meer daaroor dink nie.\tCC-BY 2.0 (France) Attribution: tatoeba.org #2590858 (CK) & #2783893 (Diablofire)\n",
            "I know that Tom knew that I should do that.\tEk weet dat Tom weet dat ek dit moes doen.\tCC-BY 2.0 (France) Attribution: tatoeba.org #7513071 (CK) & #8637983 (Snowfox201)\n",
            "I want to talk to you about something else.\tI wil met jou aanspreek oor iets anders.\tCC-BY 2.0 (France) Attribution: tatoeba.org #2590917 (CK) & #2783857 (Diablofire)\n",
            "I wouldn't be surprised if Tom didn't come.\tEk sou nie verbaas wees as Tom nie gekom het nie.\tCC-BY 2.0 (France) Attribution: tatoeba.org #2538247 (CK) & #2795281 (Diablofire)\n",
            "I'm afraid I wouldn't be very good company.\tEk sou ongelukkig nie baie goeie geselskap wees nie.\tCC-BY 2.0 (France) Attribution: tatoeba.org #2538232 (CK) & #2795283 (Diablofire)\n",
            "I'm sure Tom knows enough French to get by.\tEk is seker Tom ken genoeg Frans om verby te kom.\tCC-BY 2.0 (France) Attribution: tatoeba.org #2538208 (CK) & #2795284 (Diablofire)\n",
            "January is the first month of the calendar.\tJanuarie is die eerste maand op die kalender.\tCC-BY 2.0 (France) Attribution: tatoeba.org #681511 (Source_VOA) & #2364273 (siener)\n",
            "No matter what he may say, don't trust him.\tDit maak nie saak wat hy sê nie, moet hom nie vertrou nie.\tCC-BY 2.0 (France) Attribution: tatoeba.org #283429 (CK) & #2364222 (siener)\n",
            "Tom isn't planning to come home for dinner.\tTom beplan nie om huis toe te kom vir aandete nie.\tCC-BY 2.0 (France) Attribution: tatoeba.org #6430459 (CK) & #8873952 (siener)\n",
            "Tom read an article about the solar system.\tTom het 'n artikkel oor die sonnestelsel gelees.\tCC-BY 2.0 (France) Attribution: tatoeba.org #6455785 (Hybrid) & #6456102 (Dewald)\n",
            "Tom wasn't given the chance you and I were.\tTom het nie die kans gehad wat jy en ek gehad het nie.\tCC-BY 2.0 (France) Attribution: tatoeba.org #7490510 (CK) & #7490558 (winterstream)\n",
            "Whatever you do, don't drop your new phone.\tWat jy ook al doen, moenie die nuwe foon laat val nie.\tCC-BY 2.0 (France) Attribution: tatoeba.org #3435019 (patgfisher) & #3436066 (siener)\n",
            "A madman is not accountable for his actions.\t'n Gek is nie verantwoordelik vir sy dade nie.\tCC-BY 2.0 (France) Attribution: tatoeba.org #270272 (CM) & #7968595 (swart)\n",
            "Don't you want to know why I didn't do that?\tWil jy nie weet hoekom ek dit nie gedoen het nie?\tCC-BY 2.0 (France) Attribution: tatoeba.org #2588900 (CK) & #2783903 (Diablofire)\n",
            "I'm saving up so that I can go to Australia.\tEk is besig om te bespaar sodat ek Australië toe kan gaan.\tCC-BY 2.0 (France) Attribution: tatoeba.org #253215 (CK) & #2783390 (Diablofire)\n",
            "You're the most beautiful girl in the world.\tJy is die pragtigste meisie ter wêreld.\tCC-BY 2.0 (France) Attribution: tatoeba.org #2045860 (CK) & #2535498 (winterstream)\n",
            "Tom and his uncle walked together in silence.\tTom en sy oom het in stilte saam geloop.\tCC-BY 2.0 (France) Attribution: tatoeba.org #1027132 (CK) & #2535568 (winterstream)\n",
            "Tom might be able to do that, but I doubt it.\tTom mag dit dalk kan doen, maar ek betwyfel dit.\tCC-BY 2.0 (France) Attribution: tatoeba.org #1024446 (CK) & #2364369 (siener)\n",
            "Why would you want to do something like that?\tHoekom sou jy wou iets soos dit doen?\tCC-BY 2.0 (France) Attribution: tatoeba.org #2591674 (CK) & #2783836 (Diablofire)\n",
            "Do you plan to join us for a drink afterwards?\tBeplan jy om saam met ons daarna 'n drankie te kom kry?\tCC-BY 2.0 (France) Attribution: tatoeba.org #2588831 (CK) & #2783905 (Diablofire)\n",
            "I had to walk there because my car broke down.\tEk moes daarntoe loop, omdat my kar afgebreek het.\tCC-BY 2.0 (France) Attribution: tatoeba.org #2585764 (CK) & #2784070 (Diablofire)\n",
            "I'm going to open the wine and let it breathe.\tEk gaan die wyn oopmaak sodat dit kan asemhaal.\tCC-BY 2.0 (France) Attribution: tatoeba.org #2537889 (CK) & #2795286 (Diablofire)\n",
            "I'm surprised that building is still standing.\tEk is verbaas daardie gebou staan nogsteeds.\tCC-BY 2.0 (France) Attribution: tatoeba.org #2537873 (CK) & #2795287 (Diablofire)\n",
            "I'm trying to find out why we need to do that.\tEk probeer uitvind waarom ons dit moet doen.\tCC-BY 2.0 (France) Attribution: tatoeba.org #6685285 (CK) & #8637984 (Snowfox201)\n",
            "Maybe all of Tom's suggestions weren't stupid.\tMiskien was al Tom se voorstelle nie dom nie.\tCC-BY 2.0 (France) Attribution: tatoeba.org #4482409 (CK) & #7968555 (swart)\n",
            "This book is about a king who loses his crown.\tDie boek gaan oor die koning wat sy kroon verloor.\tCC-BY 2.0 (France) Attribution: tatoeba.org #372040 (saeb) & #385196 (NielDLR)\n",
            "Tom always seems to be wearing the same thing.\tTom lyk altyd of hy dieselfde ding dra.\tCC-BY 2.0 (France) Attribution: tatoeba.org #6656020 (CK) & #7968661 (swart)\n",
            "Tom doesn't like people who manipulate others.\tTom hou van die mense wat andere manipuleer nie.\tCC-BY 2.0 (France) Attribution: tatoeba.org #1109231 (CK) & #2783379 (Diablofire)\n",
            "Tom went back to his car and got a flashlight.\tTom het terug na sy kar gegaan en 'n flitslig gaan haal.\tCC-BY 2.0 (France) Attribution: tatoeba.org #2537843 (CK) & #2795289 (Diablofire)\n",
            "You can do whatever you want to do, of course.\tJy kan natuurlik doen wat okal jy wil doen.\tCC-BY 2.0 (France) Attribution: tatoeba.org #2591684 (CK) & #2783835 (Diablofire)\n",
            "I checked into a hotel and went right to sleep.\tEk het my in 'n hotel bespreek en reguit gaan slaap.\tCC-BY 2.0 (France) Attribution: tatoeba.org #2585760 (CK) & #2784072 (Diablofire)\n",
            "I won't be able to carry Tom across the bridge.\tEk gaan nie Tom oor die brug kan dra nie.\tCC-BY 2.0 (France) Attribution: tatoeba.org #2537809 (CK) & #2795290 (Diablofire)\n",
            "No matter what you say, I won't change my mind.\tEk gaan nie my keuse verander nie maak nie saak wat jy sê nie.\tCC-BY 2.0 (France) Attribution: tatoeba.org #2585780 (CK) & #2784067 (Diablofire)\n",
            "Why don't you just tell us what's on your mind?\tHoekom sê jy nie net vir ons wat op joy gedagtes is nie?\tCC-BY 2.0 (France) Attribution: tatoeba.org #2591643 (CK) & #2783840 (Diablofire)\n",
            "I know Tom and Mary were more than just friends.\tEk weet dat Tom en Mary meer as vriende was.\tCC-BY 2.0 (France) Attribution: tatoeba.org #1970128 (CK) & #2535558 (winterstream)\n",
            "I like grapes, but I can't eat too many of them.\tEk hou van druiwe, maar kan nie te veel daarvan eet nie.\tCC-BY 2.0 (France) Attribution: tatoeba.org #2230659 (CK) & #3435562 (siener)\n",
            "That company has been very successful up to now.\tDaardie maatskappy was nog baie suksesvol tot nou toe.\tCC-BY 2.0 (France) Attribution: tatoeba.org #241882 (CM) & #2779387 (Diablofire)\n",
            "Tom wasn't given the chance that you and I were.\tTom het nie die kans gehad wat jy en ek gehad het nie.\tCC-BY 2.0 (France) Attribution: tatoeba.org #7490507 (CK) & #7490558 (winterstream)\n",
            "Tom wasn't wearing socks, so his feet were cold.\tTom het nie sokkies gedra nie so sy voete was koud.\tCC-BY 2.0 (France) Attribution: tatoeba.org #3331521 (CK) & #3331622 (Diablofire)\n",
            "My friend sent me a letter to find out how I was.\tMy vriend het vir my 'n brief geskryf om uit te vind hoe ek was.\tCC-BY 2.0 (France) Attribution: tatoeba.org #4505567 (encikkucing) & #4263597 (siener)\n",
            "The period is missing at the end of the sentence.\tDie punt aan die einde van die sin kort.\tCC-BY 2.0 (France) Attribution: tatoeba.org #1523586 (CM) & #2364283 (siener)\n",
            "What's the real reason you don't want to do this?\tWat is die ware rede waarom jy dit nie wil doen nie?\tCC-BY 2.0 (France) Attribution: tatoeba.org #2591371 (CK) & #2783843 (Diablofire)\n",
            "I didn't know that you could speak French so well.\tEk het nie geweet jy kan so goed Frans praat nie.\tCC-BY 2.0 (France) Attribution: tatoeba.org #1887186 (CK) & #2364245 (siener)\n",
            "She is proud of never having been late for school.\tSy is trots om nog nooit laat vir skool te gewees het nie.\tCC-BY 2.0 (France) Attribution: tatoeba.org #313400 (CK) & #2783289 (Diablofire)\n",
            "I have always had a soft spot in my heart for Mary.\tEk het nog altyd 'n sagte plekkie vir Mary gehad.\tCC-BY 2.0 (France) Attribution: tatoeba.org #32025 (CK) & #2535563 (winterstream)\n",
            "Is this the reason you didn't want to come with me?\tIs hierdie die rede hoekom jy nie wil saam kom nie?\tCC-BY 2.0 (France) Attribution: tatoeba.org #2591014 (CK) & #2783881 (Diablofire)\n",
            "Out of twenty students, only one has read the book.\tUit twintig studente het net een die book gelees.\tCC-BY 2.0 (France) Attribution: tatoeba.org #2591195 (CK) & #2783861 (Diablofire)\n",
            "I think that most people want to do the right thing.\tEk dink die meeste mense wil die regte ding doen.\tCC-BY 2.0 (France) Attribution: tatoeba.org #7136877 (CK) & #7968701 (swart)\n",
            "I don't think I could spend six hours alone with you.\tEk dink ek sal ses ure met jou kan spandeer nie.\tCC-BY 2.0 (France) Attribution: tatoeba.org #2589079 (CK) & #2783897 (Diablofire)\n",
            "I hate to interrupt you, but I need to say something.\tEk haat dit om jou te onderbreek, maar ek moet iets sê.\tCC-BY 2.0 (France) Attribution: tatoeba.org #2585787 (CK) & #2784066 (Diablofire)\n",
            "Properly used, certain poisons will prove beneficial.\tMet die korrekte gebruik is sommige gifstowwe voordelig.\tCC-BY 2.0 (France) Attribution: tatoeba.org #271587 (CM) & #2205065 (winterstream)\n",
            "Yesterday at this time, we were at the movie theater.\tGister hierdie tyd was on by die bioskoop.\tCC-BY 2.0 (France) Attribution: tatoeba.org #801026 (Zifre) & #2535500 (winterstream)\n",
            "If you really want to know, all you have to do is ask.\tAs jy regtig sou wou weet moet jy net vra.\tCC-BY 2.0 (France) Attribution: tatoeba.org #2591009 (CK) & #2783849 (Diablofire)\n",
            "Tom poured cold water over himself to wake himself up.\tTom het koue water oor homself gegooi om homself wakker te maak.\tCC-BY 2.0 (France) Attribution: tatoeba.org #1024336 (CK) & #2779374 (Diablofire)\n",
            "Tom doesn't want to spend the rest of his life in jail.\tTom wil nie die res van sy lewe in die tronk spandeer nie.\tCC-BY 2.0 (France) Attribution: tatoeba.org #1094248 (CK) & #2364368 (siener)\n",
            "Tom went for a walk and took pictures of things he saw.\tTom het gaan wandel en fotos geneem van wat hy gesien het.\tCC-BY 2.0 (France) Attribution: tatoeba.org #1092298 (CK) & #2364225 (siener)\n",
            "\"Can I speak to Tom, please?\" \"I'm sorry, he just left.\"\t\"Kan ek assebleif met Tom praat?\" \"Ek is jammer, hy het sopas gegaan.\"\tCC-BY 2.0 (France) Attribution: tatoeba.org #6455138 (carlosalberto) & #6456108 (Dewald)\n",
            "Are you sure you want me to help you with your homework?\tIs jy seker jy wil hê dat ek jou moet help met jou huiswerk?\tCC-BY 2.0 (France) Attribution: tatoeba.org #2588795 (CK) & #2783907 (Diablofire)\n",
            "I have always identified hard work with success in life.\tEk het nog altyd harde werk met sukses in die lewe assosieer.\tCC-BY 2.0 (France) Attribution: tatoeba.org #252281 (CK) & #2364438 (siener)\n",
            "He tried getting close to her using every means possible.\tHy het alles in sy mag probeer om naby haar te kom.\tCC-BY 2.0 (France) Attribution: tatoeba.org #1316510 (CK) & #7968622 (swart)\n",
            "Land covers about 30 percent of the surface of the earth.\tGrond bedek omtrent 30 persent van die wêreld se oppervlakte.\tCC-BY 2.0 (France) Attribution: tatoeba.org #325399 (CK) & #2535512 (winterstream)\n",
            "After lunch today, our plan is to take a walk in the park.\tOns plan is om 'n loop deur die park te neem na middagete.\tCC-BY 2.0 (France) Attribution: tatoeba.org #1089280 (CK) & #2783352 (Diablofire)\n",
            "He reached for an English-Japanese dictionary on the desk.\tHy reik uit na a Engelse-Japanese woordeboek op die lessenaar.\tCC-BY 2.0 (France) Attribution: tatoeba.org #295069 (CK) & #6456201 (Dewald)\n",
            "I want everything you just said written into the contract.\tEk soek alles wat jy sopas gesê het in die kontrak.\tCC-BY 2.0 (France) Attribution: tatoeba.org #2042709 (CK) & #2364292 (siener)\n",
            "We recommend cutting off all further contact with the rebels.\tOns stel voor alle kontak met die rebelle word afgesny.\tCC-BY 2.0 (France) Attribution: tatoeba.org #1566958 (CK) & #7968628 (swart)\n",
            "We think the reason for his success was because of hard work.\tOns dink die rede vir sy sukses was harde werk.\tCC-BY 2.0 (France) Attribution: tatoeba.org #400169 (CK) & #2364362 (siener)\n",
            "I don't know if I've ever told you, but you have beautiful eyes.\tEk weet nie of ek jou ooit gesê het nie, maar jy het mooi oë.\tCC-BY 2.0 (France) Attribution: tatoeba.org #2318239 (CK) & #3452801 (siener)\n",
            "If you want more details about that, you'll have to ask my boss.\tAs jy meer besonderhede oor dit versoek sal jy my baas moet vra.\tCC-BY 2.0 (France) Attribution: tatoeba.org #2591012 (CK) & #2783885 (Diablofire)\n",
            "Tom said that he thought Mary was still living with her parents.\tTom het gesê dat hy dink dat Mary steeds by haar ouers woon.\tCC-BY 2.0 (France) Attribution: tatoeba.org #1093031 (CK) & #2535526 (winterstream)\n",
            "What we know of health we have learned from the study of disease.\tWat ons weet oor gesondheid het ons deur die studie van siektes geleer.\tCC-BY 2.0 (France) Attribution: tatoeba.org #843366 (darinmex) & #2535549 (winterstream)\n",
            "As time went on, people grew less and less concerned about the matter.\tMet die verloop van tyd, het mense hulle minder bekommer oor die saak.\tCC-BY 2.0 (France) Attribution: tatoeba.org #263926 (CM) & #2205115 (winterstream)\n",
            "A 5% consumption tax is levied on purchases of most goods and services.\t'n Verbruiksbelasting van 5% word gehef op die aankoop van die meeste goedere en dienste.\tCC-BY 2.0 (France) Attribution: tatoeba.org #33305 (CM) & #2205111 (winterstream)\n",
            "Since you have a sore throat and a fever, you should probably stay in bed.\tAangesien jy 'n seer keel en koors het moet jy eerder in die bed bly.\tCC-BY 2.0 (France) Attribution: tatoeba.org #6441910 (CK) & #6456478 (Dewald)\n",
            "In the past, the boys were taught to fend for themselves while still very young.\tIn die verlede was die seuns geleer om vir hulself te verdedig terwyl hulle nog baie jonk was.\tCC-BY 2.0 (France) Attribution: tatoeba.org #272154 (CK) & #2783274 (Diablofire)\n",
            "These three hours of driving have worn me out. Let's stop at the first rest area we see.\tHierdie drie ure van bestuur het my uitgeput. Kom ons stop by die eerste rusplek wat ons sien.\tCC-BY 2.0 (France) Attribution: tatoeba.org #3327934 (_undertoad) & #3328056 (Diablofire)\n",
            "I had an appointment at 2:30, but I got caught in traffic and couldn't get there in time.\tEk het 'n afspraak gehad om 2:30, maar ek was vasgevang in die verkeer en kon nie daar kom in tyd nie.\tCC-BY 2.0 (France) Attribution: tatoeba.org #2585802 (CK) & #2783910 (Diablofire)\n",
            "\n"
          ]
        }
      ]
    },
    {
      "cell_type": "code",
      "source": [
        "deu_eng = deu_eng[:50000,:]"
      ],
      "metadata": {
        "id": "G92GKV_iJPpp"
      },
      "execution_count": 8,
      "outputs": []
    },
    {
      "cell_type": "code",
      "source": [
        "deu_eng[:,0] = [s.translate(str.maketrans('', '', string.punctuation)) for s in deu_eng[:,0]]\n",
        "deu_eng[:,1] = [s.translate(str.maketrans('', '', string.punctuation)) for s in deu_eng[:,1]]\n",
        "\n",
        "deu_eng"
      ],
      "metadata": {
        "colab": {
          "base_uri": "https://localhost:8080/"
        },
        "id": "oxMigLqpJWN8",
        "outputId": "3527dd98-b8f4-47fa-c369-9bf19f6e2c47"
      },
      "execution_count": 9,
      "outputs": [
        {
          "output_type": "execute_result",
          "data": {
            "text/plain": [
              "array([['Come in', 'Gaan binne',\n",
              "        'CC-BY 2.0 (France) Attribution: tatoeba.org #348091 (Hertz) & #2783902 (Diablofire)'],\n",
              "       ['She runs', 'Sy hardloop',\n",
              "        'CC-BY 2.0 (France) Attribution: tatoeba.org #672264 (CM) & #672267 (winterstream)'],\n",
              "       ['You lost', 'Jy verloor',\n",
              "        'CC-BY 2.0 (France) Attribution: tatoeba.org #6440636 (CK) & #6456479 (Dewald)'],\n",
              "       ...,\n",
              "       ['In the past the boys were taught to fend for themselves while still very young',\n",
              "        'In die verlede was die seuns geleer om vir hulself te verdedig terwyl hulle nog baie jonk was',\n",
              "        'CC-BY 2.0 (France) Attribution: tatoeba.org #272154 (CK) & #2783274 (Diablofire)'],\n",
              "       ['These three hours of driving have worn me out Lets stop at the first rest area we see',\n",
              "        'Hierdie drie ure van bestuur het my uitgeput Kom ons stop by die eerste rusplek wat ons sien',\n",
              "        'CC-BY 2.0 (France) Attribution: tatoeba.org #3327934 (_undertoad) & #3328056 (Diablofire)'],\n",
              "       ['I had an appointment at 230 but I got caught in traffic and couldnt get there in time',\n",
              "        'Ek het n afspraak gehad om 230 maar ek was vasgevang in die verkeer en kon nie daar kom in tyd nie',\n",
              "        'CC-BY 2.0 (France) Attribution: tatoeba.org #2585802 (CK) & #2783910 (Diablofire)']],\n",
              "      dtype='<U102')"
            ]
          },
          "metadata": {},
          "execution_count": 9
        }
      ]
    },
    {
      "cell_type": "code",
      "source": [
        "for i in range(len(deu_eng)):\n",
        "    deu_eng[i,0] = deu_eng[i,0].lower()\n",
        "    deu_eng[i,1] = deu_eng[i,1].lower()"
      ],
      "metadata": {
        "id": "TPMOmyDGJaMM"
      },
      "execution_count": 10,
      "outputs": []
    },
    {
      "cell_type": "code",
      "source": [
        "eng_l = []\n",
        "deu_l = []\n",
        "\n",
        "# populate the lists with sentence lengths\n",
        "for i in deu_eng[:,0]:\n",
        "      eng_l.append(len(i.split()))\n",
        "\n",
        "for i in deu_eng[:,1]:\n",
        "      deu_l.append(len(i.split()))\n",
        "\n",
        "length_df = pd.DataFrame({'eng':eng_l, 'deu':deu_l})\n",
        "\n",
        "length_df.hist(bins = 30)\n",
        "plt.show()"
      ],
      "metadata": {
        "colab": {
          "base_uri": "https://localhost:8080/",
          "height": 281
        },
        "id": "nZqFHByTJfSP",
        "outputId": "4630b886-5883-46ae-8873-25542b070179"
      },
      "execution_count": 11,
      "outputs": [
        {
          "output_type": "display_data",
          "data": {
            "text/plain": [
              "<Figure size 432x288 with 2 Axes>"
            ],
            "image/png": "[encoded data removed]"
          },
          "metadata": {
            "needs_background": "light"
          }
        }
      ]
    },
    {
      "cell_type": "code",
      "source": [
        "def tokenization(lines):\n",
        "    tokenizer = Tokenizer()\n",
        "    tokenizer.fit_on_texts(lines)\n",
        "    return tokenizer"
      ],
      "metadata": {
        "id": "LQuktp6MJhTg"
      },
      "execution_count": 12,
      "outputs": []
    },
    {
      "cell_type": "code",
      "source": [
        "eng_tokenizer = tokenization(deu_eng[:, 0])\n",
        "eng_vocab_size = len(eng_tokenizer.word_index) + 1\n",
        "\n",
        "eng_length = 8\n",
        "print('English Vocabulary Size: %d' % eng_vocab_size)"
      ],
      "metadata": {
        "colab": {
          "base_uri": "https://localhost:8080/"
        },
        "id": "J_ntfmZzJocg",
        "outputId": "f7d606de-085d-4305-9fdd-a04c6392508d"
      },
      "execution_count": 13,
      "outputs": [
        {
          "output_type": "stream",
          "name": "stdout",
          "text": [
            "English Vocabulary Size: 1050\n"
          ]
        }
      ]
    },
    {
      "cell_type": "code",
      "source": [
        "deu_tokenizer = tokenization(deu_eng[:, 1])\n",
        "deu_vocab_size = len(deu_tokenizer.word_index) + 1\n",
        "\n",
        "deu_length = 8\n",
        "print('Deutch Vocabulary Size: %d' % deu_vocab_size)"
      ],
      "metadata": {
        "colab": {
          "base_uri": "https://localhost:8080/"
        },
        "id": "-xnqXSxTJqbs",
        "outputId": "9f06f520-711b-4832-adcd-029bcbf76704"
      },
      "execution_count": 14,
      "outputs": [
        {
          "output_type": "stream",
          "name": "stdout",
          "text": [
            "Deutch Vocabulary Size: 1021\n"
          ]
        }
      ]
    },
    {
      "cell_type": "code",
      "source": [
        "def encode_sequences(tokenizer, length, lines):\n",
        "    seq = tokenizer.texts_to_sequences(lines)\n",
        "    # pad sequences with 0 values\n",
        "    seq = pad_sequences(seq, maxlen=length, padding='post')\n",
        "    return seq"
      ],
      "metadata": {
        "id": "lryoRJBMJsh1"
      },
      "execution_count": 15,
      "outputs": []
    },
    {
      "cell_type": "code",
      "source": [
        "from sklearn.model_selection import train_test_split\n",
        "\n",
        "# split data into train and test set\n",
        "train, test = train_test_split(deu_eng, test_size=0.2, random_state = 12)"
      ],
      "metadata": {
        "id": "fHbzx5ElJuYN"
      },
      "execution_count": 16,
      "outputs": []
    },
    {
      "cell_type": "code",
      "source": [
        "trainX = encode_sequences(deu_tokenizer, deu_length, train[:, 1])\n",
        "trainY = encode_sequences(eng_tokenizer, eng_length, train[:, 0])\n",
        "\n",
        "# prepare validation data\n",
        "testX = encode_sequences(deu_tokenizer, deu_length, test[:, 1])\n",
        "testY = encode_sequences(eng_tokenizer, eng_length, test[:, 0])"
      ],
      "metadata": {
        "id": "fI5SU92ZJxGK"
      },
      "execution_count": 17,
      "outputs": []
    },
    {
      "cell_type": "code",
      "source": [
        "def define_model(in_vocab,out_vocab, in_timesteps,out_timesteps,units):\n",
        "    model = Sequential()\n",
        "    model.add(Embedding(in_vocab, units, input_length=in_timesteps, mask_zero=True))\n",
        "    model.add(LSTM(units))\n",
        "    model.add(RepeatVector(out_timesteps))\n",
        "    model.add(LSTM(units, return_sequences=True))\n",
        "    model.add(Dense(out_vocab, activation='softmax'))\n",
        "    return model"
      ],
      "metadata": {
        "id": "oESeXQ5dJyzz"
      },
      "execution_count": 18,
      "outputs": []
    },
    {
      "cell_type": "code",
      "source": [
        "model = define_model(deu_vocab_size, eng_vocab_size, deu_length, eng_length, 512)"
      ],
      "metadata": {
        "id": "8aZJqY-dJ1Vp"
      },
      "execution_count": 19,
      "outputs": []
    },
    {
      "cell_type": "code",
      "source": [
        "rms = optimizers.RMSprop(lr=0.001)\n",
        "model.compile(optimizer=rms, loss='sparse_categorical_crossentropy')"
      ],
      "metadata": {
        "colab": {
          "base_uri": "https://localhost:8080/"
        },
        "id": "QRgwOVNUJ3Hq",
        "outputId": "d2f370b3-3ea4-4c4c-b00e-e9ba575422c9"
      },
      "execution_count": 20,
      "outputs": [
        {
          "output_type": "stream",
          "name": "stderr",
          "text": [
            "/usr/local/lib/python3.8/dist-packages/keras/optimizers/optimizer_v2/rmsprop.py:135: UserWarning: The `lr` argument is deprecated, use `learning_rate` instead.\n",
            "  super(RMSprop, self).__init__(name, **kwargs)\n"
          ]
        }
      ]
    },
    {
      "cell_type": "code",
      "source": [
        "filename = 'model.h1.24_jan_19'\n",
        "checkpoint = ModelCheckpoint(filename, monitor='val_loss', verbose=1, save_best_only=True, mode='min')\n",
        "\n",
        "# train model\n",
        "history = model.fit(trainX, trainY.reshape(trainY.shape[0], trainY.shape[1], 1),\n",
        "                    epochs=30, batch_size=512, validation_split = 0.2,callbacks=[checkpoint], \n",
        "                    verbose=1)"
      ],
      "metadata": {
        "colab": {
          "base_uri": "https://localhost:8080/"
        },
        "id": "UfR5HoxtJ9u8",
        "outputId": "d5639cc6-7ec0-4881-8aa5-38e90e686bc4"
      },
      "execution_count": 21,
      "outputs": [
        {
          "output_type": "stream",
          "name": "stdout",
          "text": [
            "Epoch 1/30\n",
            "1/2 [==============>...............] - ETA: 10s - loss: 6.9560\n",
            "Epoch 1: val_loss improved from inf to 5.61794, saving model to model.h1.24_jan_19\n"
          ]
        },
        {
          "output_type": "stream",
          "name": "stderr",
          "text": [
            "WARNING:absl:Found untraced functions such as lstm_cell_layer_call_fn, lstm_cell_layer_call_and_return_conditional_losses, lstm_cell_1_layer_call_fn, lstm_cell_1_layer_call_and_return_conditional_losses while saving (showing 4 of 4). These functions will not be directly callable after loading.\n"
          ]
        },
        {
          "output_type": "stream",
          "name": "stdout",
          "text": [
            "\b\b\b\b\b\b\b\b\b\b\b\b\b\b\b\b\b\b\b\b\b\b\b\b\b\b\b\b\b\b\b\b\b\b\b\b\b\b\b\b\b\b\b\b\b\b\b\b\b\b\b\b\b\b\b\b\b\b\b\b\b\b\r2/2 [==============================] - 24s 14s/step - loss: 6.9541 - val_loss: 5.6179\n",
            "Epoch 2/30\n",
            "1/2 [==============>...............] - ETA: 0s - loss: 5.6689\n",
            "Epoch 2: val_loss improved from 5.61794 to 4.96201, saving model to model.h1.24_jan_19\n"
          ]
        },
        {
          "output_type": "stream",
          "name": "stderr",
          "text": [
            "WARNING:absl:Found untraced functions such as lstm_cell_layer_call_fn, lstm_cell_layer_call_and_return_conditional_losses, lstm_cell_1_layer_call_fn, lstm_cell_1_layer_call_and_return_conditional_losses while saving (showing 4 of 4). These functions will not be directly callable after loading.\n"
          ]
        },
        {
          "output_type": "stream",
          "name": "stdout",
          "text": [
            "\b\b\b\b\b\b\b\b\b\b\b\b\b\b\b\b\b\b\b\b\b\b\b\b\b\b\b\b\b\b\b\b\b\b\b\b\b\b\b\b\b\b\b\b\b\b\b\b\b\b\b\b\b\b\b\b\b\b\b\b\b\r2/2 [==============================] - 13s 13s/step - loss: 5.6796 - val_loss: 4.9620\n",
            "Epoch 3/30\n",
            "1/2 [==============>...............] - ETA: 0s - loss: 4.9068\n",
            "Epoch 3: val_loss improved from 4.96201 to 4.76117, saving model to model.h1.24_jan_19\n"
          ]
        },
        {
          "output_type": "stream",
          "name": "stderr",
          "text": [
            "WARNING:absl:Found untraced functions such as lstm_cell_layer_call_fn, lstm_cell_layer_call_and_return_conditional_losses, lstm_cell_1_layer_call_fn, lstm_cell_1_layer_call_and_return_conditional_losses while saving (showing 4 of 4). These functions will not be directly callable after loading.\n"
          ]
        },
        {
          "output_type": "stream",
          "name": "stdout",
          "text": [
            "\b\b\b\b\b\b\b\b\b\b\b\b\b\b\b\b\b\b\b\b\b\b\b\b\b\b\b\b\b\b\b\b\b\b\b\b\b\b\b\b\b\b\b\b\b\b\b\b\b\b\b\b\b\b\b\b\b\b\b\b\b\r2/2 [==============================] - 12s 12s/step - loss: 4.9070 - val_loss: 4.7612\n",
            "Epoch 4/30\n",
            "1/2 [==============>...............] - ETA: 0s - loss: 4.6780\n",
            "Epoch 4: val_loss improved from 4.76117 to 4.64770, saving model to model.h1.24_jan_19\n"
          ]
        },
        {
          "output_type": "stream",
          "name": "stderr",
          "text": [
            "WARNING:absl:Found untraced functions such as lstm_cell_layer_call_fn, lstm_cell_layer_call_and_return_conditional_losses, lstm_cell_1_layer_call_fn, lstm_cell_1_layer_call_and_return_conditional_losses while saving (showing 4 of 4). These functions will not be directly callable after loading.\n"
          ]
        },
        {
          "output_type": "stream",
          "name": "stdout",
          "text": [
            "\b\b\b\b\b\b\b\b\b\b\b\b\b\b\b\b\b\b\b\b\b\b\b\b\b\b\b\b\b\b\b\b\b\b\b\b\b\b\b\b\b\b\b\b\b\b\b\b\b\b\b\b\b\b\b\b\b\b\b\b\b\r2/2 [==============================] - 12s 12s/step - loss: 4.6650 - val_loss: 4.6477\n",
            "Epoch 5/30\n",
            "1/2 [==============>...............] - ETA: 0s - loss: 4.5264\n",
            "Epoch 5: val_loss did not improve from 4.64770\n",
            "2/2 [==============================] - 0s 49ms/step - loss: 4.5362 - val_loss: 4.7482\n",
            "Epoch 6/30\n",
            "1/2 [==============>...............] - ETA: 0s - loss: 4.5848\n",
            "Epoch 6: val_loss improved from 4.64770 to 4.57129, saving model to model.h1.24_jan_19\n"
          ]
        },
        {
          "output_type": "stream",
          "name": "stderr",
          "text": [
            "WARNING:absl:Found untraced functions such as lstm_cell_layer_call_fn, lstm_cell_layer_call_and_return_conditional_losses, lstm_cell_1_layer_call_fn, lstm_cell_1_layer_call_and_return_conditional_losses while saving (showing 4 of 4). These functions will not be directly callable after loading.\n"
          ]
        },
        {
          "output_type": "stream",
          "name": "stdout",
          "text": [
            "\b\b\b\b\b\b\b\b\b\b\b\b\b\b\b\b\b\b\b\b\b\b\b\b\b\b\b\b\b\b\b\b\b\b\b\b\b\b\b\b\b\b\b\b\b\b\b\b\b\b\b\b\b\b\b\b\b\b\b\b\b\r2/2 [==============================] - 12s 12s/step - loss: 4.5914 - val_loss: 4.5713\n",
            "Epoch 7/30\n",
            "1/2 [==============>...............] - ETA: 0s - loss: 4.3966\n",
            "Epoch 7: val_loss improved from 4.57129 to 4.51439, saving model to model.h1.24_jan_19\n"
          ]
        },
        {
          "output_type": "stream",
          "name": "stderr",
          "text": [
            "WARNING:absl:Found untraced functions such as lstm_cell_layer_call_fn, lstm_cell_layer_call_and_return_conditional_losses, lstm_cell_1_layer_call_fn, lstm_cell_1_layer_call_and_return_conditional_losses while saving (showing 4 of 4). These functions will not be directly callable after loading.\n"
          ]
        },
        {
          "output_type": "stream",
          "name": "stdout",
          "text": [
            "\b\b\b\b\b\b\b\b\b\b\b\b\b\b\b\b\b\b\b\b\b\b\b\b\b\b\b\b\b\b\b\b\b\b\b\b\b\b\b\b\b\b\b\b\b\b\b\b\b\b\b\b\b\b\b\b\b\b\b\b\b\r2/2 [==============================] - 12s 12s/step - loss: 4.4056 - val_loss: 4.5144\n",
            "Epoch 8/30\n",
            "1/2 [==============>...............] - ETA: 0s - loss: 4.3516\n",
            "Epoch 8: val_loss did not improve from 4.51439\n",
            "2/2 [==============================] - 0s 43ms/step - loss: 4.3421 - val_loss: 4.5379\n",
            "Epoch 9/30\n",
            "1/2 [==============>...............] - ETA: 0s - loss: 4.3221\n",
            "Epoch 9: val_loss did not improve from 4.51439\n",
            "2/2 [==============================] - 0s 59ms/step - loss: 4.3298 - val_loss: 4.6402\n",
            "Epoch 10/30\n",
            "1/2 [==============>...............] - ETA: 0s - loss: 4.4147\n",
            "Epoch 10: val_loss improved from 4.51439 to 4.51214, saving model to model.h1.24_jan_19\n"
          ]
        },
        {
          "output_type": "stream",
          "name": "stderr",
          "text": [
            "WARNING:absl:Found untraced functions such as lstm_cell_layer_call_fn, lstm_cell_layer_call_and_return_conditional_losses, lstm_cell_1_layer_call_fn, lstm_cell_1_layer_call_and_return_conditional_losses while saving (showing 4 of 4). These functions will not be directly callable after loading.\n"
          ]
        },
        {
          "output_type": "stream",
          "name": "stdout",
          "text": [
            "\b\b\b\b\b\b\b\b\b\b\b\b\b\b\b\b\b\b\b\b\b\b\b\b\b\b\b\b\b\b\b\b\b\b\b\b\b\b\b\b\b\b\b\b\b\b\b\b\b\b\b\b\b\b\b\b\b\b\b\b\b\r2/2 [==============================] - 12s 12s/step - loss: 4.4074 - val_loss: 4.5121\n",
            "Epoch 11/30\n",
            "1/2 [==============>...............] - ETA: 0s - loss: 4.2835\n",
            "Epoch 11: val_loss improved from 4.51214 to 4.47934, saving model to model.h1.24_jan_19\n"
          ]
        },
        {
          "output_type": "stream",
          "name": "stderr",
          "text": [
            "WARNING:absl:Found untraced functions such as lstm_cell_layer_call_fn, lstm_cell_layer_call_and_return_conditional_losses, lstm_cell_1_layer_call_fn, lstm_cell_1_layer_call_and_return_conditional_losses while saving (showing 4 of 4). These functions will not be directly callable after loading.\n"
          ]
        },
        {
          "output_type": "stream",
          "name": "stdout",
          "text": [
            "\b\b\b\b\b\b\b\b\b\b\b\b\b\b\b\b\b\b\b\b\b\b\b\b\b\b\b\b\b\b\b\b\b\b\b\b\b\b\b\b\b\b\b\b\b\b\b\b\b\b\b\b\b\b\b\b\b\b\b\b\b\r2/2 [==============================] - 12s 12s/step - loss: 4.2730 - val_loss: 4.4793\n",
            "Epoch 12/30\n",
            "1/2 [==============>...............] - ETA: 0s - loss: 4.2143\n",
            "Epoch 12: val_loss did not improve from 4.47934\n",
            "2/2 [==============================] - 0s 42ms/step - loss: 4.2126 - val_loss: 4.5463\n",
            "Epoch 13/30\n",
            "1/2 [==============>...............] - ETA: 0s - loss: 4.2608\n",
            "Epoch 13: val_loss improved from 4.47934 to 4.45628, saving model to model.h1.24_jan_19\n"
          ]
        },
        {
          "output_type": "stream",
          "name": "stderr",
          "text": [
            "WARNING:absl:Found untraced functions such as lstm_cell_layer_call_fn, lstm_cell_layer_call_and_return_conditional_losses, lstm_cell_1_layer_call_fn, lstm_cell_1_layer_call_and_return_conditional_losses while saving (showing 4 of 4). These functions will not be directly callable after loading.\n"
          ]
        },
        {
          "output_type": "stream",
          "name": "stdout",
          "text": [
            "\b\b\b\b\b\b\b\b\b\b\b\b\b\b\b\b\b\b\b\b\b\b\b\b\b\b\b\b\b\b\b\b\b\b\b\b\b\b\b\b\b\b\b\b\b\b\b\b\b\b\b\b\b\b\b\b\b\b\b\b\b\r2/2 [==============================] - 13s 13s/step - loss: 4.2718 - val_loss: 4.4563\n",
            "Epoch 14/30\n",
            "1/2 [==============>...............] - ETA: 0s - loss: 4.1397\n",
            "Epoch 14: val_loss improved from 4.45628 to 4.44301, saving model to model.h1.24_jan_19\n"
          ]
        },
        {
          "output_type": "stream",
          "name": "stderr",
          "text": [
            "WARNING:absl:Found untraced functions such as lstm_cell_layer_call_fn, lstm_cell_layer_call_and_return_conditional_losses, lstm_cell_1_layer_call_fn, lstm_cell_1_layer_call_and_return_conditional_losses while saving (showing 4 of 4). These functions will not be directly callable after loading.\n"
          ]
        },
        {
          "output_type": "stream",
          "name": "stdout",
          "text": [
            "\b\b\b\b\b\b\b\b\b\b\b\b\b\b\b\b\b\b\b\b\b\b\b\b\b\b\b\b\b\b\b\b\b\b\b\b\b\b\b\b\b\b\b\b\b\b\b\b\b\b\b\b\b\b\b\b\b\b\b\b\b\r2/2 [==============================] - 12s 12s/step - loss: 4.1517 - val_loss: 4.4430\n",
            "Epoch 15/30\n",
            "1/2 [==============>...............] - ETA: 0s - loss: 4.1261\n",
            "Epoch 15: val_loss improved from 4.44301 to 4.43881, saving model to model.h1.24_jan_19\n"
          ]
        },
        {
          "output_type": "stream",
          "name": "stderr",
          "text": [
            "WARNING:absl:Found untraced functions such as lstm_cell_layer_call_fn, lstm_cell_layer_call_and_return_conditional_losses, lstm_cell_1_layer_call_fn, lstm_cell_1_layer_call_and_return_conditional_losses while saving (showing 4 of 4). These functions will not be directly callable after loading.\n"
          ]
        },
        {
          "output_type": "stream",
          "name": "stdout",
          "text": [
            "\b\b\b\b\b\b\b\b\b\b\b\b\b\b\b\b\b\b\b\b\b\b\b\b\b\b\b\b\b\b\b\b\b\b\b\b\b\b\b\b\b\b\b\b\b\b\b\b\b\b\b\b\b\b\b\b\b\b\b\b\b\r2/2 [==============================] - 12s 12s/step - loss: 4.1162 - val_loss: 4.4388\n",
            "Epoch 16/30\n",
            "1/2 [==============>...............] - ETA: 0s - loss: 4.0977\n",
            "Epoch 16: val_loss did not improve from 4.43881\n",
            "2/2 [==============================] - 0s 40ms/step - loss: 4.1049 - val_loss: 4.8607\n",
            "Epoch 17/30\n",
            "1/2 [==============>...............] - ETA: 0s - loss: 4.5588\n",
            "Epoch 17: val_loss did not improve from 4.43881\n",
            "2/2 [==============================] - 0s 40ms/step - loss: 4.5339 - val_loss: 4.5044\n",
            "Epoch 18/30\n",
            "1/2 [==============>...............] - ETA: 0s - loss: 4.1097\n",
            "Epoch 18: val_loss improved from 4.43881 to 4.42738, saving model to model.h1.24_jan_19\n"
          ]
        },
        {
          "output_type": "stream",
          "name": "stderr",
          "text": [
            "WARNING:absl:Found untraced functions such as lstm_cell_layer_call_fn, lstm_cell_layer_call_and_return_conditional_losses, lstm_cell_1_layer_call_fn, lstm_cell_1_layer_call_and_return_conditional_losses while saving (showing 4 of 4). These functions will not be directly callable after loading.\n"
          ]
        },
        {
          "output_type": "stream",
          "name": "stdout",
          "text": [
            "\b\b\b\b\b\b\b\b\b\b\b\b\b\b\b\b\b\b\b\b\b\b\b\b\b\b\b\b\b\b\b\b\b\b\b\b\b\b\b\b\b\b\b\b\b\b\b\b\b\b\b\b\b\b\b\b\b\b\b\b\b\r2/2 [==============================] - 12s 12s/step - loss: 4.1014 - val_loss: 4.4274\n",
            "Epoch 19/30\n",
            "1/2 [==============>...............] - ETA: 0s - loss: 4.0142\n",
            "Epoch 19: val_loss did not improve from 4.42738\n",
            "2/2 [==============================] - 0s 39ms/step - loss: 4.0334 - val_loss: 4.4460\n",
            "Epoch 20/30\n",
            "1/2 [==============>...............] - ETA: 0s - loss: 4.0482\n",
            "Epoch 20: val_loss did not improve from 4.42738\n",
            "2/2 [==============================] - 0s 41ms/step - loss: 4.0636 - val_loss: 4.5681\n",
            "Epoch 21/30\n",
            "1/2 [==============>...............] - ETA: 0s - loss: 4.2059\n",
            "Epoch 21: val_loss did not improve from 4.42738\n",
            "2/2 [==============================] - 0s 44ms/step - loss: 4.2033 - val_loss: 4.4768\n",
            "Epoch 22/30\n",
            "1/2 [==============>...............] - ETA: 0s - loss: 4.0119\n",
            "Epoch 22: val_loss improved from 4.42738 to 4.36855, saving model to model.h1.24_jan_19\n"
          ]
        },
        {
          "output_type": "stream",
          "name": "stderr",
          "text": [
            "WARNING:absl:Found untraced functions such as lstm_cell_layer_call_fn, lstm_cell_layer_call_and_return_conditional_losses, lstm_cell_1_layer_call_fn, lstm_cell_1_layer_call_and_return_conditional_losses while saving (showing 4 of 4). These functions will not be directly callable after loading.\n"
          ]
        },
        {
          "output_type": "stream",
          "name": "stdout",
          "text": [
            "\b\b\b\b\b\b\b\b\b\b\b\b\b\b\b\b\b\b\b\b\b\b\b\b\b\b\b\b\b\b\b\b\b\b\b\b\b\b\b\b\b\b\b\b\b\b\b\b\b\b\b\b\b\b\b\b\b\b\b\b\b\r2/2 [==============================] - 13s 13s/step - loss: 4.0261 - val_loss: 4.3686\n",
            "Epoch 23/30\n",
            "1/2 [==============>...............] - ETA: 0s - loss: 3.9411\n",
            "Epoch 23: val_loss did not improve from 4.36855\n",
            "2/2 [==============================] - 0s 43ms/step - loss: 3.9534 - val_loss: 4.3814\n",
            "Epoch 24/30\n",
            "1/2 [==============>...............] - ETA: 0s - loss: 3.9388\n",
            "Epoch 24: val_loss did not improve from 4.36855\n",
            "2/2 [==============================] - 0s 42ms/step - loss: 3.9376 - val_loss: 4.5321\n",
            "Epoch 25/30\n",
            "1/2 [==============>...............] - ETA: 0s - loss: 4.1151\n",
            "Epoch 25: val_loss did not improve from 4.36855\n",
            "2/2 [==============================] - 0s 37ms/step - loss: 4.1127 - val_loss: 4.4231\n",
            "Epoch 26/30\n",
            "1/2 [==============>...............] - ETA: 0s - loss: 3.9292\n",
            "Epoch 26: val_loss did not improve from 4.36855\n",
            "2/2 [==============================] - 0s 43ms/step - loss: 3.9219 - val_loss: 4.5813\n",
            "Epoch 27/30\n",
            "1/2 [==============>...............] - ETA: 0s - loss: 4.0464\n",
            "Epoch 27: val_loss did not improve from 4.36855\n",
            "2/2 [==============================] - 0s 35ms/step - loss: 4.0369 - val_loss: 4.4219\n",
            "Epoch 28/30\n",
            "1/2 [==============>...............] - ETA: 0s - loss: 3.9674\n",
            "Epoch 28: val_loss improved from 4.36855 to 4.32613, saving model to model.h1.24_jan_19\n"
          ]
        },
        {
          "output_type": "stream",
          "name": "stderr",
          "text": [
            "WARNING:absl:Found untraced functions such as lstm_cell_layer_call_fn, lstm_cell_layer_call_and_return_conditional_losses, lstm_cell_1_layer_call_fn, lstm_cell_1_layer_call_and_return_conditional_losses while saving (showing 4 of 4). These functions will not be directly callable after loading.\n"
          ]
        },
        {
          "output_type": "stream",
          "name": "stdout",
          "text": [
            "\b\b\b\b\b\b\b\b\b\b\b\b\b\b\b\b\b\b\b\b\b\b\b\b\b\b\b\b\b\b\b\b\b\b\b\b\b\b\b\b\b\b\b\b\b\b\b\b\b\b\b\b\b\b\b\b\b\b\b\b\b\r2/2 [==============================] - 12s 12s/step - loss: 3.9659 - val_loss: 4.3261\n",
            "Epoch 29/30\n",
            "1/2 [==============>...............] - ETA: 0s - loss: 3.8236\n",
            "Epoch 29: val_loss did not improve from 4.32613\n",
            "2/2 [==============================] - 0s 40ms/step - loss: 3.8242 - val_loss: 4.3334\n",
            "Epoch 30/30\n",
            "1/2 [==============>...............] - ETA: 0s - loss: 3.7977\n",
            "Epoch 30: val_loss did not improve from 4.32613\n",
            "2/2 [==============================] - 0s 39ms/step - loss: 3.7905 - val_loss: 4.3460\n"
          ]
        }
      ]
    },
    {
      "cell_type": "code",
      "source": [
        "plt.plot(history.history['loss'])\n",
        "plt.plot(history.history['val_loss'])\n",
        "plt.legend(['train','validation'])\n",
        "plt.show()"
      ],
      "metadata": {
        "colab": {
          "base_uri": "https://localhost:8080/",
          "height": 265
        },
        "id": "GgjxRHVRKJF6",
        "outputId": "dacf6038-cec7-4d65-f732-c6cf4b4077b9"
      },
      "execution_count": 22,
      "outputs": [
        {
          "output_type": "display_data",
          "data": {
            "text/plain": [
              "<Figure size 432x288 with 1 Axes>"
            ],
            "image/png": "[encoded data removed]"
          },
          "metadata": {
            "needs_background": "light"
          }
        }
      ]
    },
    {
      "cell_type": "code",
      "source": [
        "model = load_model('model.h1.24_jan_19')\n",
        "preds = model.predict(testX.reshape((testX.shape[0],testX.shape[1])))"
      ],
      "metadata": {
        "colab": {
          "base_uri": "https://localhost:8080/"
        },
        "id": "Wt3lFDj7MEbQ",
        "outputId": "9fd5b817-7d42-4925-cdd2-05052b59e30e"
      },
      "execution_count": 25,
      "outputs": [
        {
          "output_type": "stream",
          "name": "stdout",
          "text": [
            "6/6 [==============================] - 1s 6ms/step\n"
          ]
        }
      ]
    }
  ]
}